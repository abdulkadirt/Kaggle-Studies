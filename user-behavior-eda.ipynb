{
 "cells": [
  {
   "cell_type": "code",
   "execution_count": 1,
   "metadata": {
    "_cell_guid": "b1076dfc-b9ad-4769-8c92-a6c4dae69d19",
    "_uuid": "8f2839f25d086af736a60e9eeb907d3b93b6e0e5",
    "execution": {
     "iopub.execute_input": "2024-11-25T17:11:20.337979Z",
     "iopub.status.busy": "2024-11-25T17:11:20.337451Z",
     "iopub.status.idle": "2024-11-25T17:11:20.781914Z",
     "shell.execute_reply": "2024-11-25T17:11:20.780340Z",
     "shell.execute_reply.started": "2024-11-25T17:11:20.337923Z"
    }
   },
   "outputs": [],
   "source": [
    "# This Python 3 environment comes with many helpful analytics libraries installed\n",
    "# It is defined by the kaggle/python Docker image: https://github.com/kaggle/docker-python\n",
    "# For example, here's several helpful packages to load\n",
    "\n",
    "import numpy as np # linear algebra\n",
    "import pandas as pd # data processing, CSV file I/O (e.g. pd.read_csv)\n",
    "\n",
    "# Input data files are available in the read-only \"../input/\" directory\n",
    "# For example, running this (by clicking run or pressing Shift+Enter) will list all files under the input directory\n",
    "\n",
    "import os\n",
    "for dirname, _, filenames in os.walk('/kaggle/input'):\n",
    "    for filename in filenames:\n",
    "        print(os.path.join(dirname, filename))\n",
    "\n",
    "# You can write up to 20GB to the current directory (/kaggle/working/) that gets preserved as output when you create a version using \"Save & Run All\" \n",
    "# You can also write temporary files to /kaggle/temp/, but they won't be saved outside of the current session"
   ]
  },
  {
   "cell_type": "code",
   "execution_count": 2,
   "metadata": {
    "execution": {
     "iopub.execute_input": "2024-11-25T17:11:20.784511Z",
     "iopub.status.busy": "2024-11-25T17:11:20.784039Z",
     "iopub.status.idle": "2024-11-25T17:11:21.846700Z",
     "shell.execute_reply": "2024-11-25T17:11:21.845629Z",
     "shell.execute_reply.started": "2024-11-25T17:11:20.784474Z"
    }
   },
   "outputs": [],
   "source": [
    "import pandas as pd\n",
    "import numpy as np\n",
    "import matplotlib.pyplot as plt\n",
    "import seaborn as sns\n",
    "\n",
    "import warnings\n",
    "warnings.filterwarnings(action = \"ignore\")\n",
    "\n",
    "pd.set_option(\"display.max_columns\" , 200)\n",
    "\n",
    "pd.options.display.float_format = '{:.2f}'.format  \n",
    "# bunun yerine her seferinde round falann da kullanılaiblir.\n"
   ]
  },
  {
   "cell_type": "code",
   "execution_count": 3,
   "metadata": {
    "execution": {
     "iopub.execute_input": "2024-11-25T17:11:21.848708Z",
     "iopub.status.busy": "2024-11-25T17:11:21.848068Z",
     "iopub.status.idle": "2024-11-25T17:11:22.577565Z",
     "shell.execute_reply": "2024-11-25T17:11:22.576136Z",
     "shell.execute_reply.started": "2024-11-25T17:11:21.848665Z"
    }
   },
   "outputs": [],
   "source": [
    "import plotly.graph_objects as go\n",
    "import plotly.express as px\n",
    "from plotly.subplots import make_subplots"
   ]
  },
  {
   "cell_type": "markdown",
   "metadata": {},
   "source": [
    "We need to separate the columns into numeric, categorical, categorical but high cardinality, numeric but categorical, the function below does this."
   ]
  },
  {
   "cell_type": "code",
   "execution_count": 4,
   "metadata": {
    "execution": {
     "iopub.execute_input": "2024-11-25T17:11:22.581814Z",
     "iopub.status.busy": "2024-11-25T17:11:22.580831Z",
     "iopub.status.idle": "2024-11-25T17:11:22.592396Z",
     "shell.execute_reply": "2024-11-25T17:11:22.590453Z",
     "shell.execute_reply.started": "2024-11-25T17:11:22.581747Z"
    }
   },
   "outputs": [],
   "source": [
    "def grab_col_names( dataframe, cat_th = 10 , car_th = 20 ) :\n",
    "    \n",
    "    cat_cols = [col for col in dataframe.columns if dataframe[col].dtypes in ['object' , 'category' , 'bool']]\n",
    "    num_but_cat = [col for col in dataframe.columns if dataframe[col].nunique() < cat_th and dataframe[col].dtypes in [\"int64\", \"float64\"]]\n",
    "    cat_but_car = [col for col in dataframe.columns if\n",
    "                   dataframe[col].nunique() > car_th and str(dataframe[col].dtypes) in [\"category\", \"object\"]]\n",
    "\n",
    "    cat_cols = cat_cols + num_but_cat\n",
    "    cat_cols = [col for col in cat_cols if col not in cat_but_car]\n",
    "\n",
    "    num_cols = [col for col in dataframe.columns if dataframe[col].dtypes in [\"int64\", \"float64\"]]\n",
    "    num_cols = [col for col in num_cols if col not in cat_cols]\n",
    "\n",
    "    print(f\"Observations: {dataframe.shape[0]}\")\n",
    "    print(f\"Variables: {dataframe.shape[1]}\")\n",
    "    print(f'cat_cols: {len(cat_cols)}')\n",
    "    print(f'num_cols: {len(num_cols)}')\n",
    "    print(f'cat_but_car: {len(cat_but_car)}')\n",
    "    print(f'num_but_cat: {len(num_but_cat)}')\n",
    "\n",
    "    return cat_cols, num_cols, cat_but_car"
   ]
  },
  {
   "cell_type": "markdown",
   "metadata": {},
   "source": [
    "For the summary, let's see a slightly more customized version of the describe."
   ]
  },
  {
   "cell_type": "code",
   "execution_count": 5,
   "metadata": {
    "execution": {
     "iopub.execute_input": "2024-11-25T17:11:22.594826Z",
     "iopub.status.busy": "2024-11-25T17:11:22.594232Z",
     "iopub.status.idle": "2024-11-25T17:11:22.618706Z",
     "shell.execute_reply": "2024-11-25T17:11:22.617068Z",
     "shell.execute_reply.started": "2024-11-25T17:11:22.594753Z"
    }
   },
   "outputs": [],
   "source": [
    "def ozet(df , kind = \"n\"):\n",
    "    \n",
    "    if (kind == \"n\") :\n",
    "        df_numeric = df.select_dtypes(include=['int64', 'float64'])\n",
    "        summ = pd.DataFrame(df_numeric.dtypes, columns=['data type'])\n",
    "\n",
    "        desc = df_numeric.describe().transpose() # getting the stats\n",
    "        summ['#missing'] = df_numeric.isnull().sum().values\n",
    "        summ['#duplicate'] = df_numeric.duplicated().sum()\n",
    "        \n",
    "        summ['min'] = desc['min'].values\n",
    "        summ['max'] = desc['max'].values\n",
    "        summ['mean'] = desc['mean'].values\n",
    "        summ[\"median\"] = desc[\"50%\"].values\n",
    "        summ['std dev'] = desc['std'].values\n",
    "\n",
    "    elif (kind == \"c\") : \n",
    "        df_categoric = df.select_dtypes(include = ['O'])\n",
    "        summ = pd.DataFrame(df_categoric.dtypes, columns=['data type'])\n",
    "        summ['#missing'] = df_categoric.isnull().sum().values\n",
    "        summ['#duplicate'] = df_categoric.duplicated().sum()\n",
    "\n",
    "        desc_cat = df_categoric.describe().transpose()\n",
    "        summ['count'] = desc_cat['count'].values\n",
    "        summ['unique'] = desc_cat['unique'].values\n",
    "        summ['top'] = desc_cat['top'].values\n",
    "        summ['freq'] = desc_cat['freq'].values\n",
    "        summ[\"percentage_of_top\"] = (summ['freq'] / summ['count']) *100\n",
    "    \n",
    "\n",
    "    return summ"
   ]
  },
  {
   "cell_type": "code",
   "execution_count": 6,
   "metadata": {
    "execution": {
     "iopub.execute_input": "2024-11-25T17:11:22.621150Z",
     "iopub.status.busy": "2024-11-25T17:11:22.620592Z",
     "iopub.status.idle": "2024-11-25T17:11:22.637637Z",
     "shell.execute_reply": "2024-11-25T17:11:22.636251Z",
     "shell.execute_reply.started": "2024-11-25T17:11:22.621087Z"
    }
   },
   "outputs": [],
   "source": [
    "def compare_frequency(df, index, columns, fill_value=0, bar_title=\"Bar Chart\", pie_title=\"Pie Chart\", show_pie=False):\n",
    "    \n",
    "    # Pivot table creation, crosstab function can also be used.\n",
    "    pivot_table = df.pivot_table(\n",
    "        values=None,\n",
    "        index=index,\n",
    "        columns=columns,\n",
    "        aggfunc='size',\n",
    "        fill_value=fill_value\n",
    "    )\n",
    "    \n",
    "    # Making Charts\n",
    "    plt.figure(figsize=(15, 5), dpi=150)\n",
    "    \n",
    "    # Bar \n",
    "    ax1 = plt.subplot(121)\n",
    "    pivot_table.plot(kind='bar', ax=ax1, color=sns.color_palette('pastel'))\n",
    "    ax1.set_title(bar_title)\n",
    "    ax1.set_ylabel('Frequency')\n",
    "    # Pie , usually pie charts are not used in data analysis but I like it.\n",
    "    if show_pie:\n",
    "            ax2 = plt.subplot(122)\n",
    "            pivot_table.sum().plot(kind='pie', autopct='%1.1f%%', colors=sns.color_palette('pastel'), ax=ax2)\n",
    "            ax2.set_title(pie_title)\n",
    "    \n",
    "    plt.tight_layout()\n",
    "    plt.show()"
   ]
  },
  {
   "cell_type": "code",
   "execution_count": 7,
   "metadata": {
    "execution": {
     "iopub.execute_input": "2024-11-25T17:11:22.639517Z",
     "iopub.status.busy": "2024-11-25T17:11:22.639090Z",
     "iopub.status.idle": "2024-11-25T17:11:22.727144Z",
     "shell.execute_reply": "2024-11-25T17:11:22.725707Z",
     "shell.execute_reply.started": "2024-11-25T17:11:22.639477Z"
    }
   },
   "outputs": [
    {
     "data": {
      "text/html": [
       "<div>\n",
       "<style scoped>\n",
       "    .dataframe tbody tr th:only-of-type {\n",
       "        vertical-align: middle;\n",
       "    }\n",
       "\n",
       "    .dataframe tbody tr th {\n",
       "        vertical-align: top;\n",
       "    }\n",
       "\n",
       "    .dataframe thead th {\n",
       "        text-align: right;\n",
       "    }\n",
       "</style>\n",
       "<table border=\"1\" class=\"dataframe\">\n",
       "  <thead>\n",
       "    <tr style=\"text-align: right;\">\n",
       "      <th></th>\n",
       "      <th>User ID</th>\n",
       "      <th>Device Model</th>\n",
       "      <th>Operating System</th>\n",
       "      <th>App Usage Time (min/day)</th>\n",
       "      <th>Screen On Time (hours/day)</th>\n",
       "      <th>Battery Drain (mAh/day)</th>\n",
       "      <th>Number of Apps Installed</th>\n",
       "      <th>Data Usage (MB/day)</th>\n",
       "      <th>Age</th>\n",
       "      <th>Gender</th>\n",
       "      <th>User Behavior Class</th>\n",
       "    </tr>\n",
       "  </thead>\n",
       "  <tbody>\n",
       "    <tr>\n",
       "      <th>0</th>\n",
       "      <td>1</td>\n",
       "      <td>Google Pixel 5</td>\n",
       "      <td>Android</td>\n",
       "      <td>393</td>\n",
       "      <td>6.40</td>\n",
       "      <td>1872</td>\n",
       "      <td>67</td>\n",
       "      <td>1122</td>\n",
       "      <td>40</td>\n",
       "      <td>Male</td>\n",
       "      <td>4</td>\n",
       "    </tr>\n",
       "    <tr>\n",
       "      <th>1</th>\n",
       "      <td>2</td>\n",
       "      <td>OnePlus 9</td>\n",
       "      <td>Android</td>\n",
       "      <td>268</td>\n",
       "      <td>4.70</td>\n",
       "      <td>1331</td>\n",
       "      <td>42</td>\n",
       "      <td>944</td>\n",
       "      <td>47</td>\n",
       "      <td>Female</td>\n",
       "      <td>3</td>\n",
       "    </tr>\n",
       "    <tr>\n",
       "      <th>2</th>\n",
       "      <td>3</td>\n",
       "      <td>Xiaomi Mi 11</td>\n",
       "      <td>Android</td>\n",
       "      <td>154</td>\n",
       "      <td>4.00</td>\n",
       "      <td>761</td>\n",
       "      <td>32</td>\n",
       "      <td>322</td>\n",
       "      <td>42</td>\n",
       "      <td>Male</td>\n",
       "      <td>2</td>\n",
       "    </tr>\n",
       "  </tbody>\n",
       "</table>\n",
       "</div>"
      ],
      "text/plain": [
       "   User ID    Device Model Operating System  App Usage Time (min/day)  \\\n",
       "0        1  Google Pixel 5          Android                       393   \n",
       "1        2       OnePlus 9          Android                       268   \n",
       "2        3    Xiaomi Mi 11          Android                       154   \n",
       "\n",
       "   Screen On Time (hours/day)  Battery Drain (mAh/day)  \\\n",
       "0                        6.40                     1872   \n",
       "1                        4.70                     1331   \n",
       "2                        4.00                      761   \n",
       "\n",
       "   Number of Apps Installed  Data Usage (MB/day)  Age  Gender  \\\n",
       "0                        67                 1122   40    Male   \n",
       "1                        42                  944   47  Female   \n",
       "2                        32                  322   42    Male   \n",
       "\n",
       "   User Behavior Class  \n",
       "0                    4  \n",
       "1                    3  \n",
       "2                    2  "
      ]
     },
     "execution_count": 7,
     "metadata": {},
     "output_type": "execute_result"
    }
   ],
   "source": [
    "# url = '/kaggle/input/mobile-device-usage-and-user-behavior-dataset/user_behavior_dataset.csv'\n",
    "data = pd.read_csv('user_behavior_dataset.csv')\n",
    "df = data.copy()\n",
    "df.head(3)"
   ]
  },
  {
   "cell_type": "code",
   "execution_count": 8,
   "metadata": {
    "execution": {
     "iopub.execute_input": "2024-11-25T17:11:22.730736Z",
     "iopub.status.busy": "2024-11-25T17:11:22.730276Z",
     "iopub.status.idle": "2024-11-25T17:11:22.745507Z",
     "shell.execute_reply": "2024-11-25T17:11:22.743974Z",
     "shell.execute_reply.started": "2024-11-25T17:11:22.730696Z"
    }
   },
   "outputs": [],
   "source": [
    "df = df.drop(columns=[\"User ID\"] , axis = 1)"
   ]
  },
  {
   "cell_type": "code",
   "execution_count": 9,
   "metadata": {
    "execution": {
     "iopub.execute_input": "2024-11-25T17:11:22.748170Z",
     "iopub.status.busy": "2024-11-25T17:11:22.747591Z",
     "iopub.status.idle": "2024-11-25T17:11:22.759703Z",
     "shell.execute_reply": "2024-11-25T17:11:22.758442Z",
     "shell.execute_reply.started": "2024-11-25T17:11:22.748114Z"
    }
   },
   "outputs": [
    {
     "name": "stdout",
     "output_type": "stream",
     "text": [
      "Device Model\n",
      "Operating System\n",
      "App Usage Time (min/day)\n",
      "Screen On Time (hours/day)\n",
      "Battery Drain (mAh/day)\n",
      "Number of Apps Installed\n",
      "Data Usage (MB/day)\n",
      "Age\n",
      "Gender\n",
      "User Behavior Class\n"
     ]
    }
   ],
   "source": [
    "for i in df.columns : \n",
    "    print(i)"
   ]
  },
  {
   "cell_type": "code",
   "execution_count": 10,
   "metadata": {
    "execution": {
     "iopub.execute_input": "2024-11-25T17:11:22.764966Z",
     "iopub.status.busy": "2024-11-25T17:11:22.764311Z",
     "iopub.status.idle": "2024-11-25T17:11:22.777434Z",
     "shell.execute_reply": "2024-11-25T17:11:22.776241Z",
     "shell.execute_reply.started": "2024-11-25T17:11:22.764917Z"
    }
   },
   "outputs": [],
   "source": [
    "new_cols = {\n",
    "\"Device Model\" : \"device_model\",\n",
    "\"Operating System\" : \"operating_system\",\n",
    "\"App Usage Time (min/day)\" : \"app_usage_time\",\n",
    "\"Screen On Time (hours/day)\" : \"screen_on_time(h/day)\",\n",
    "\"Battery Drain (mAh/day)\" : \"battery_drain\",\n",
    "\"Number of Apps Installed\" : \"num_of_installed_apps\",\n",
    "\"Data Usage (MB/day)\" : \"data_usage(mb/day)\",\n",
    "\"Age\" :  \"age\",\n",
    "\"Gender\" : \"gender\",\n",
    "\"User Behavior Class\" : \"user_behavior_class\" \n",
    "}\n",
    "\n",
    "df.rename(columns=new_cols, inplace=True)"
   ]
  },
  {
   "cell_type": "code",
   "execution_count": 11,
   "metadata": {
    "execution": {
     "iopub.execute_input": "2024-11-25T17:11:22.780541Z",
     "iopub.status.busy": "2024-11-25T17:11:22.779886Z",
     "iopub.status.idle": "2024-11-25T17:11:22.805938Z",
     "shell.execute_reply": "2024-11-25T17:11:22.804719Z",
     "shell.execute_reply.started": "2024-11-25T17:11:22.780483Z"
    }
   },
   "outputs": [
    {
     "name": "stdout",
     "output_type": "stream",
     "text": [
      "Observations: 700\n",
      "Variables: 10\n",
      "cat_cols: 4\n",
      "num_cols: 6\n",
      "cat_but_car: 0\n",
      "num_but_cat: 1\n"
     ]
    }
   ],
   "source": [
    "cat_cols, num_cols, cat_but_car = grab_col_names(df)"
   ]
  },
  {
   "cell_type": "markdown",
   "metadata": {},
   "source": [
    "Aşağıdaki kod inanılmaz güzel özet veriyor :)"
   ]
  },
  {
   "cell_type": "code",
   "execution_count": 12,
   "metadata": {
    "execution": {
     "iopub.execute_input": "2024-11-25T17:11:22.808583Z",
     "iopub.status.busy": "2024-11-25T17:11:22.807935Z",
     "iopub.status.idle": "2024-11-25T17:11:22.842396Z",
     "shell.execute_reply": "2024-11-25T17:11:22.841124Z",
     "shell.execute_reply.started": "2024-11-25T17:11:22.808509Z"
    }
   },
   "outputs": [
    {
     "data": {
      "text/html": [
       "<div>\n",
       "<style scoped>\n",
       "    .dataframe tbody tr th:only-of-type {\n",
       "        vertical-align: middle;\n",
       "    }\n",
       "\n",
       "    .dataframe tbody tr th {\n",
       "        vertical-align: top;\n",
       "    }\n",
       "\n",
       "    .dataframe thead th {\n",
       "        text-align: right;\n",
       "    }\n",
       "</style>\n",
       "<table border=\"1\" class=\"dataframe\">\n",
       "  <thead>\n",
       "    <tr style=\"text-align: right;\">\n",
       "      <th></th>\n",
       "      <th>data type</th>\n",
       "      <th>#missing</th>\n",
       "      <th>#duplicate</th>\n",
       "      <th>count</th>\n",
       "      <th>unique</th>\n",
       "      <th>top</th>\n",
       "      <th>freq</th>\n",
       "      <th>percentage_of_top</th>\n",
       "    </tr>\n",
       "  </thead>\n",
       "  <tbody>\n",
       "    <tr>\n",
       "      <th>device_model</th>\n",
       "      <td>object</td>\n",
       "      <td>0</td>\n",
       "      <td>690</td>\n",
       "      <td>700</td>\n",
       "      <td>5</td>\n",
       "      <td>Xiaomi Mi 11</td>\n",
       "      <td>146</td>\n",
       "      <td>20.86</td>\n",
       "    </tr>\n",
       "    <tr>\n",
       "      <th>operating_system</th>\n",
       "      <td>object</td>\n",
       "      <td>0</td>\n",
       "      <td>690</td>\n",
       "      <td>700</td>\n",
       "      <td>2</td>\n",
       "      <td>Android</td>\n",
       "      <td>554</td>\n",
       "      <td>79.14</td>\n",
       "    </tr>\n",
       "    <tr>\n",
       "      <th>gender</th>\n",
       "      <td>object</td>\n",
       "      <td>0</td>\n",
       "      <td>690</td>\n",
       "      <td>700</td>\n",
       "      <td>2</td>\n",
       "      <td>Male</td>\n",
       "      <td>364</td>\n",
       "      <td>52.00</td>\n",
       "    </tr>\n",
       "  </tbody>\n",
       "</table>\n",
       "</div>"
      ],
      "text/plain": [
       "                 data type  #missing  #duplicate count unique           top  \\\n",
       "device_model        object         0         690   700      5  Xiaomi Mi 11   \n",
       "operating_system    object         0         690   700      2       Android   \n",
       "gender              object         0         690   700      2          Male   \n",
       "\n",
       "                 freq percentage_of_top  \n",
       "device_model      146             20.86  \n",
       "operating_system  554             79.14  \n",
       "gender            364             52.00  "
      ]
     },
     "execution_count": 12,
     "metadata": {},
     "output_type": "execute_result"
    }
   ],
   "source": [
    "ozet(df , kind = \"c\")"
   ]
  },
  {
   "cell_type": "code",
   "execution_count": 13,
   "metadata": {
    "execution": {
     "iopub.execute_input": "2024-11-25T17:11:22.844140Z",
     "iopub.status.busy": "2024-11-25T17:11:22.843773Z",
     "iopub.status.idle": "2024-11-25T17:11:22.894860Z",
     "shell.execute_reply": "2024-11-25T17:11:22.893474Z",
     "shell.execute_reply.started": "2024-11-25T17:11:22.844105Z"
    }
   },
   "outputs": [
    {
     "data": {
      "text/html": [
       "<div>\n",
       "<style scoped>\n",
       "    .dataframe tbody tr th:only-of-type {\n",
       "        vertical-align: middle;\n",
       "    }\n",
       "\n",
       "    .dataframe tbody tr th {\n",
       "        vertical-align: top;\n",
       "    }\n",
       "\n",
       "    .dataframe thead th {\n",
       "        text-align: right;\n",
       "    }\n",
       "</style>\n",
       "<table border=\"1\" class=\"dataframe\">\n",
       "  <thead>\n",
       "    <tr style=\"text-align: right;\">\n",
       "      <th></th>\n",
       "      <th>data type</th>\n",
       "      <th>#missing</th>\n",
       "      <th>#duplicate</th>\n",
       "      <th>min</th>\n",
       "      <th>max</th>\n",
       "      <th>mean</th>\n",
       "      <th>median</th>\n",
       "      <th>std dev</th>\n",
       "    </tr>\n",
       "  </thead>\n",
       "  <tbody>\n",
       "    <tr>\n",
       "      <th>app_usage_time</th>\n",
       "      <td>int64</td>\n",
       "      <td>0</td>\n",
       "      <td>0</td>\n",
       "      <td>30.00</td>\n",
       "      <td>598.00</td>\n",
       "      <td>271.13</td>\n",
       "      <td>227.50</td>\n",
       "      <td>177.20</td>\n",
       "    </tr>\n",
       "    <tr>\n",
       "      <th>screen_on_time(h/day)</th>\n",
       "      <td>float64</td>\n",
       "      <td>0</td>\n",
       "      <td>0</td>\n",
       "      <td>1.00</td>\n",
       "      <td>12.00</td>\n",
       "      <td>5.27</td>\n",
       "      <td>4.90</td>\n",
       "      <td>3.07</td>\n",
       "    </tr>\n",
       "    <tr>\n",
       "      <th>battery_drain</th>\n",
       "      <td>int64</td>\n",
       "      <td>0</td>\n",
       "      <td>0</td>\n",
       "      <td>302.00</td>\n",
       "      <td>2993.00</td>\n",
       "      <td>1525.16</td>\n",
       "      <td>1502.50</td>\n",
       "      <td>819.14</td>\n",
       "    </tr>\n",
       "    <tr>\n",
       "      <th>num_of_installed_apps</th>\n",
       "      <td>int64</td>\n",
       "      <td>0</td>\n",
       "      <td>0</td>\n",
       "      <td>10.00</td>\n",
       "      <td>99.00</td>\n",
       "      <td>50.68</td>\n",
       "      <td>49.00</td>\n",
       "      <td>26.94</td>\n",
       "    </tr>\n",
       "    <tr>\n",
       "      <th>data_usage(mb/day)</th>\n",
       "      <td>int64</td>\n",
       "      <td>0</td>\n",
       "      <td>0</td>\n",
       "      <td>102.00</td>\n",
       "      <td>2497.00</td>\n",
       "      <td>929.74</td>\n",
       "      <td>823.50</td>\n",
       "      <td>640.45</td>\n",
       "    </tr>\n",
       "    <tr>\n",
       "      <th>age</th>\n",
       "      <td>int64</td>\n",
       "      <td>0</td>\n",
       "      <td>0</td>\n",
       "      <td>18.00</td>\n",
       "      <td>59.00</td>\n",
       "      <td>38.48</td>\n",
       "      <td>38.00</td>\n",
       "      <td>12.01</td>\n",
       "    </tr>\n",
       "    <tr>\n",
       "      <th>user_behavior_class</th>\n",
       "      <td>int64</td>\n",
       "      <td>0</td>\n",
       "      <td>0</td>\n",
       "      <td>1.00</td>\n",
       "      <td>5.00</td>\n",
       "      <td>2.99</td>\n",
       "      <td>3.00</td>\n",
       "      <td>1.40</td>\n",
       "    </tr>\n",
       "  </tbody>\n",
       "</table>\n",
       "</div>"
      ],
      "text/plain": [
       "                      data type  #missing  #duplicate    min     max    mean  \\\n",
       "app_usage_time            int64         0           0  30.00  598.00  271.13   \n",
       "screen_on_time(h/day)   float64         0           0   1.00   12.00    5.27   \n",
       "battery_drain             int64         0           0 302.00 2993.00 1525.16   \n",
       "num_of_installed_apps     int64         0           0  10.00   99.00   50.68   \n",
       "data_usage(mb/day)        int64         0           0 102.00 2497.00  929.74   \n",
       "age                       int64         0           0  18.00   59.00   38.48   \n",
       "user_behavior_class       int64         0           0   1.00    5.00    2.99   \n",
       "\n",
       "                       median  std dev  \n",
       "app_usage_time         227.50   177.20  \n",
       "screen_on_time(h/day)    4.90     3.07  \n",
       "battery_drain         1502.50   819.14  \n",
       "num_of_installed_apps   49.00    26.94  \n",
       "data_usage(mb/day)     823.50   640.45  \n",
       "age                     38.00    12.01  \n",
       "user_behavior_class      3.00     1.40  "
      ]
     },
     "execution_count": 13,
     "metadata": {},
     "output_type": "execute_result"
    }
   ],
   "source": [
    "ozet(df)"
   ]
  },
  {
   "cell_type": "code",
   "execution_count": 14,
   "metadata": {
    "execution": {
     "iopub.execute_input": "2024-11-25T17:11:22.896943Z",
     "iopub.status.busy": "2024-11-25T17:11:22.896501Z",
     "iopub.status.idle": "2024-11-25T17:11:22.903140Z",
     "shell.execute_reply": "2024-11-25T17:11:22.901720Z",
     "shell.execute_reply.started": "2024-11-25T17:11:22.896903Z"
    }
   },
   "outputs": [],
   "source": [
    "# def summarize(df):\n",
    "#     summ = pd.DataFrame(df.dtypes, columns=['data type'])\n",
    "#     summ['#unique'] = df.nunique().values\n",
    "#     summ['#missing'] = df.isnull().sum().values\n",
    "#     summ['#duplicate'] = df.duplicated().sum()\n",
    "#     desc = pd.DataFrame(df.describe(include='all').transpose()) # getting the stats\n",
    "    \n",
    "#     summ['min'] = desc['min'].values\n",
    "#     summ['max'] = desc['max'].values\n",
    "#     summ['mean'] = desc['mean'].values\n",
    "#     summ['std dev'] = desc['std'].values\n",
    "#     summ['top value'] = desc['top'].values\n",
    "#     summ['Freq'] = desc['freq'].values\n",
    "#     return summ\n",
    "\n",
    "# # formatting parameters for the sake of better representation\n",
    "# cell_hover = { \n",
    "#     'selector': 'td:hover',\n",
    "#     'props': [('background-color', '#ffffb3')]\n",
    "# }\n",
    "# index_names = {\n",
    "#     'selector': '.index_name',\n",
    "#     'props': 'font-style: italic; color: darkgrey; font-weight:normal;'\n",
    "# }\n",
    "# headers = {\n",
    "#     'selector': 'th:not(.index_name)',\n",
    "#     'props': 'background-color: #2e0478; color: white;'\n",
    "# }\n",
    "\n",
    "# # summarizing the basic properties of dataset\n",
    "# summarize(data).style.set_table_styles([cell_hover, index_names, headers]).background_gradient(cmap='Purples').set_caption('Raw data statistics')"
   ]
  },
  {
   "cell_type": "markdown",
   "metadata": {},
   "source": [
    "**Coefficient of Variation**\n",
    "\n",
    "To see the variation of the variables in the dataset, we will look at the coefficients of variation. The coefficient of variation (CV) is a statistical measure that measures the variation of a variable as the ratio of its standard deviation to its mean. It is usually expressed as a percentage (%).\n",
    "\n",
    "Generally, with the coefficient of variation, we can see how homogeneous or heterogeneous the distribution of the data is, and the general levels of variation between the variables. Data with high coefficient of variation show more spread around the mean and contain more risk or uncertainty."
   ]
  },
  {
   "cell_type": "code",
   "execution_count": 15,
   "metadata": {
    "execution": {
     "iopub.execute_input": "2024-11-25T17:11:22.905507Z",
     "iopub.status.busy": "2024-11-25T17:11:22.904888Z",
     "iopub.status.idle": "2024-11-25T17:11:22.925587Z",
     "shell.execute_reply": "2024-11-25T17:11:22.924168Z",
     "shell.execute_reply.started": "2024-11-25T17:11:22.905462Z"
    }
   },
   "outputs": [
    {
     "name": "stdout",
     "output_type": "stream",
     "text": [
      "app_usage_time          65.36\n",
      "screen_on_time(h/day)   58.20\n",
      "battery_drain           53.71\n",
      "num_of_installed_apps   53.16\n",
      "data_usage(mb/day)      68.88\n",
      "age                     31.22\n",
      "user_behavior_class     46.87\n",
      "dtype: float64\n"
     ]
    }
   ],
   "source": [
    "coefficient_of_variation = df.std(numeric_only=True) / df.mean(numeric_only=True)\n",
    "print(coefficient_of_variation*100)"
   ]
  },
  {
   "cell_type": "code",
   "execution_count": 16,
   "metadata": {
    "execution": {
     "iopub.execute_input": "2024-11-25T17:11:22.927858Z",
     "iopub.status.busy": "2024-11-25T17:11:22.927396Z",
     "iopub.status.idle": "2024-11-25T17:11:23.274699Z",
     "shell.execute_reply": "2024-11-25T17:11:23.273401Z",
     "shell.execute_reply.started": "2024-11-25T17:11:22.927818Z"
    }
   },
   "outputs": [
    {
     "data": {
      "text/plain": [
       "<Axes: >"
      ]
     },
     "execution_count": 16,
     "metadata": {},
     "output_type": "execute_result"
    },
    {
     "data": {
      "image/png": "[encoded data removed]",
      "text/plain": [
       "<Figure size 640x480 with 1 Axes>"
      ]
     },
     "metadata": {},
     "output_type": "display_data"
    }
   ],
   "source": [
    "sorted_cv = coefficient_of_variation.sort_values()\n",
    "sorted_cv.plot.barh(x = 'Variables', y = 'Coefficient of Variation', color = '#127184')"
   ]
  },
  {
   "cell_type": "markdown",
   "metadata": {},
   "source": [
    "We need to examine the parts where users differ from each other so that we can classify them.\n",
    "\n",
    "Here app_usage_time and screen_on_time(h/day) columns are the most scattered properties when examining range and std.\n",
    "\n",
    "The battey_drain property is probably inversely proportional to the usage properties, and at first glance we can think that there might be a correlation between the data_usage property and the app_useage_time property.\n",
    "\n",
    "\n",
    "With categorical data, we can get an idea of how biased the data might be by looking at the percentage of the dominant.\n"
   ]
  },
  {
   "cell_type": "code",
   "execution_count": 17,
   "metadata": {
    "execution": {
     "iopub.execute_input": "2024-11-25T17:11:23.285139Z",
     "iopub.status.busy": "2024-11-25T17:11:23.284715Z",
     "iopub.status.idle": "2024-11-25T17:11:23.315062Z",
     "shell.execute_reply": "2024-11-25T17:11:23.313694Z",
     "shell.execute_reply.started": "2024-11-25T17:11:23.285085Z"
    }
   },
   "outputs": [
    {
     "name": "stdout",
     "output_type": "stream",
     "text": [
      "<class 'pandas.core.frame.DataFrame'>\n",
      "RangeIndex: 700 entries, 0 to 699\n",
      "Data columns (total 10 columns):\n",
      " #   Column                 Non-Null Count  Dtype  \n",
      "---  ------                 --------------  -----  \n",
      " 0   device_model           700 non-null    object \n",
      " 1   operating_system       700 non-null    object \n",
      " 2   app_usage_time         700 non-null    int64  \n",
      " 3   screen_on_time(h/day)  700 non-null    float64\n",
      " 4   battery_drain          700 non-null    int64  \n",
      " 5   num_of_installed_apps  700 non-null    int64  \n",
      " 6   data_usage(mb/day)     700 non-null    int64  \n",
      " 7   age                    700 non-null    int64  \n",
      " 8   gender                 700 non-null    object \n",
      " 9   user_behavior_class    700 non-null    int64  \n",
      "dtypes: float64(1), int64(6), object(3)\n",
      "memory usage: 54.8+ KB\n"
     ]
    }
   ],
   "source": [
    "df.info()"
   ]
  },
  {
   "cell_type": "markdown",
   "metadata": {},
   "source": [
    "**EDA**"
   ]
  },
  {
   "cell_type": "code",
   "execution_count": 18,
   "metadata": {
    "execution": {
     "iopub.execute_input": "2024-11-25T17:11:23.316998Z",
     "iopub.status.busy": "2024-11-25T17:11:23.316593Z",
     "iopub.status.idle": "2024-11-25T17:11:23.333089Z",
     "shell.execute_reply": "2024-11-25T17:11:23.331685Z",
     "shell.execute_reply.started": "2024-11-25T17:11:23.316942Z"
    }
   },
   "outputs": [
    {
     "data": {
      "text/plain": [
       "['app_usage_time',\n",
       " 'screen_on_time(h/day)',\n",
       " 'battery_drain',\n",
       " 'num_of_installed_apps',\n",
       " 'data_usage(mb/day)',\n",
       " 'age']"
      ]
     },
     "execution_count": 18,
     "metadata": {},
     "output_type": "execute_result"
    }
   ],
   "source": [
    "num_cols"
   ]
  },
  {
   "cell_type": "code",
   "execution_count": 19,
   "metadata": {
    "execution": {
     "iopub.execute_input": "2024-11-25T17:11:23.335305Z",
     "iopub.status.busy": "2024-11-25T17:11:23.334821Z",
     "iopub.status.idle": "2024-11-25T17:11:23.348927Z",
     "shell.execute_reply": "2024-11-25T17:11:23.347311Z",
     "shell.execute_reply.started": "2024-11-25T17:11:23.335252Z"
    }
   },
   "outputs": [
    {
     "name": "stdout",
     "output_type": "stream",
     "text": [
      "app_usage_time\n",
      "screen_on_time(h/day)\n",
      "battery_drain\n",
      "num_of_installed_apps\n",
      "data_usage(mb/day)\n",
      "age\n"
     ]
    }
   ],
   "source": [
    "for i, col in enumerate(num_cols):\n",
    "    print(col)"
   ]
  },
  {
   "cell_type": "markdown",
   "metadata": {},
   "source": [
    "**Univariate Analysis**"
   ]
  },
  {
   "cell_type": "code",
   "execution_count": 20,
   "metadata": {
    "execution": {
     "iopub.execute_input": "2024-11-25T17:11:23.351021Z",
     "iopub.status.busy": "2024-11-25T17:11:23.350629Z",
     "iopub.status.idle": "2024-11-25T17:11:24.251740Z",
     "shell.execute_reply": "2024-11-25T17:11:24.250311Z",
     "shell.execute_reply.started": "2024-11-25T17:11:23.350983Z"
    },
    "scrolled": false
   },
   "outputs": [
    {
     "data": {
      "text/html": [
       "<iframe\n",
       "    scrolling=\"no\"\n",
       "    width=\"1020px\"\n",
       "    height=\"1620\"\n",
       "    src=\"iframe_figures/figure_20.html\"\n",
       "    frameborder=\"0\"\n",
       "    allowfullscreen\n",
       "></iframe>\n"
      ]
     },
     "metadata": {},
     "output_type": "display_data"
    }
   ],
   "source": [
    "# Calculate number of rows and columns for subplots\n",
    "\n",
    "num_rows_num = (len(num_cols) + 2) // 3  \n",
    "num_rows_cat = (len(cat_cols) + 2) // 3\n",
    "\n",
    "# Create subplots: one for numerical and one for categorical data\n",
    "fig = make_subplots(\n",
    "    rows = num_rows_num + num_rows_cat, cols=3, \n",
    "    subplot_titles=[f\"{col}\" for col in num_cols] + \n",
    "                   [f\"{col}\" for col in cat_cols],\n",
    "    column_widths=[0.33, 0.33, 0.33]  # Evenly distribute the width across 3 columns\n",
    ")\n",
    "\n",
    "\n",
    "# Add histograms for numerical columns\n",
    "for i, col in enumerate(num_cols):\n",
    "    row_in_subplot = (i // 3) + 1 \n",
    "    col_in_subplot = (i % 3) + 1  \n",
    "    fig.add_trace(\n",
    "        go.Histogram(x=df[col], name=col, opacity=0.75),\n",
    "        row=row_in_subplot, col=col_in_subplot\n",
    "    )\n",
    "\n",
    "# Add barplot for categorical columns (count of each category)\n",
    "for i, col in enumerate(cat_cols):\n",
    "    row_in_subplot = num_rows_num + (i // 3) + 1  \n",
    "    col_in_subplot = (i % 3) + 1  \n",
    "    \n",
    "    # Ensure there's data in the column\n",
    "    if df[col].notna().sum() > 0:\n",
    "        fig.add_trace(\n",
    "            go.Histogram(x=df[col], name=col, histfunc='count', opacity=0.75),\n",
    "            row = row_in_subplot, col = col_in_subplot\n",
    "        )\n",
    "\n",
    "# Update layout with increased height and better spacing\n",
    "fig.update_layout(\n",
    "    title=\"Histograms of Numerical and Categorical Data\",\n",
    "    barmode='overlay',\n",
    "    showlegend=False,\n",
    "    height=600 + (num_rows_num * 250) + (num_rows_cat * 250),  # Adjust height based on number of rows\n",
    "    width=1000,  # Increased width to accommodate 3 columns\n",
    "    bargap=0.1,  # Space between bars\n",
    "    title_x=0.5,  # Center title\n",
    "    plot_bgcolor='white',  # White background for the entire plot\n",
    "    paper_bgcolor='white',  # White background for the paper as well\n",
    "    hovermode=\"x unified\",  # Unified hovermode for better interaction\n",
    "    title_font=dict(size=20)\n",
    ")\n",
    "\n",
    "# Show the plot\n",
    "fig.show(renderer='iframe_connected')"
   ]
  },
  {
   "cell_type": "markdown",
   "metadata": {},
   "source": [
    "* **make_subplots**  : belirtilen satır ve sütun sayısına göre bir subplot grid'i oluşturur.\n",
    "* rows = Topla satır sayısı.\n",
    "* cols = toplam sütun sayısı\n",
    "* subplot_titles  = grafik başlıkları\n",
    "* columns_widths = Her sütunun genişliği\n",
    "\n",
    "\n",
    "Numeric sütunlar için Histogram veya kdeplot kullanılabilir.\n",
    "kategorik sütunlar için de barplot kullanılması güzel olacaktır.\n",
    "\n",
    "kategorik değişkenelerden operating_system için dominantlık konusunda daha önce de bir değişiklik görmüştük sayısal olarak , bunu görselleştirdik.\n",
    "kalan kategorik değişkenlerin dağılımının neredeyse homojen olduğu söylenebilir belki de.\n",
    "\n",
    "Operaitng_System değişkenini olduğu gibi ele almak biraz yanlış olaiblir çünkü IOS kullanan kişiler sadece tek bir device_model türüne sahipken kalan device_modellerin hepsi android kullanıyor. Burada normalleştirme mantıklı bir seçim olacaktır.\n",
    "\n",
    "İşletim sistemi değişkenini kullanılan telefon modellerinin frekansına bölersek(örneğin android kullanan 4 telefon modeli varsa datada android/4 gibi) daha anlamlı bir özellik elde ederiz gibi gözüküyor.\n",
    "\n"
   ]
  },
  {
   "cell_type": "code",
   "execution_count": 21,
   "metadata": {},
   "outputs": [
    {
     "data": {
      "image/png": "[encoded data removed]",
      "text/plain": [
       "<Figure size 2250x750 with 1 Axes>"
      ]
     },
     "metadata": {},
     "output_type": "display_data"
    }
   ],
   "source": [
    "compare_frequency(\n",
    "    df = df,\n",
    "    index='gender',\n",
    "    columns='device_model', # Bu sütun tek başına da incelenecektir.\n",
    "    fill_value=0,\n",
    "    bar_title='User Behavior Class By Gender',\n",
    "    pie_title='Operating System Distribution',\n",
    "    show_pie=False\n",
    ")"
   ]
  },
  {
   "cell_type": "code",
   "execution_count": 22,
   "metadata": {},
   "outputs": [
    {
     "data": {
      "image/png": "[encoded data removed]",
      "text/plain": [
       "<Figure size 2250x750 with 2 Axes>"
      ]
     },
     "metadata": {},
     "output_type": "display_data"
    }
   ],
   "source": [
    "compare_frequency(\n",
    "    df = df,\n",
    "    index='gender',\n",
    "    columns='operating_system', # Bu sütun tek başına da incelenecektir.\n",
    "    fill_value=0,\n",
    "    bar_title='User Behavior Class By Operating System',\n",
    "    pie_title='Operating System Distribution',\n",
    "    show_pie=True\n",
    ")"
   ]
  },
  {
   "cell_type": "code",
   "execution_count": 23,
   "metadata": {
    "execution": {
     "iopub.execute_input": "2024-11-25T17:28:18.112216Z",
     "iopub.status.busy": "2024-11-25T17:28:18.111760Z",
     "iopub.status.idle": "2024-11-25T17:28:18.121284Z",
     "shell.execute_reply": "2024-11-25T17:28:18.119830Z",
     "shell.execute_reply.started": "2024-11-25T17:28:18.112164Z"
    }
   },
   "outputs": [],
   "source": [
    "def outlier_thresholds(dataframe, col_name, q1=0.25, q3=0.75):\n",
    "    quartile1 = dataframe[col_name].quantile(q1)\n",
    "    quartile3 = dataframe[col_name].quantile(q3)\n",
    "    interquantile_range = quartile3 - quartile1\n",
    "    up_limit = quartile3 + 1.5 * interquantile_range\n",
    "    low_limit = quartile1 - 1.5 * interquantile_range\n",
    "    return low_limit, up_limit\n",
    "    \n",
    "def check_outlier(dataframe, col_name, q1=0.25, q3=0.75):\n",
    "    low_limit, up_limit = outlier_thresholds(dataframe, col_name, q1, q3)\n",
    "    if dataframe[(dataframe[col_name] > up_limit) | (dataframe[col_name] < low_limit)].any(axis=None):\n",
    "        return True\n",
    "    else:\n",
    "        return False\n",
    "\n",
    "# Eğer baskılama yntemini kullancaksak aşağıdaki fonksiyon oyuna girer.\n",
    "def replace_with_thresholds(dataframe, variable):\n",
    "    low_limit, up_limit = outlier_thresholds(dataframe, variable)\n",
    "    dataframe.loc[(dataframe[variable] < low_limit), variable] = low_limit\n",
    "    dataframe.loc[(dataframe[variable] > up_limit), variable] = up_limit"
   ]
  },
  {
   "cell_type": "code",
   "execution_count": 24,
   "metadata": {
    "execution": {
     "iopub.execute_input": "2024-11-25T17:24:48.985004Z",
     "iopub.status.busy": "2024-11-25T17:24:48.984514Z",
     "iopub.status.idle": "2024-11-25T17:24:49.011368Z",
     "shell.execute_reply": "2024-11-25T17:24:49.009958Z",
     "shell.execute_reply.started": "2024-11-25T17:24:48.984961Z"
    }
   },
   "outputs": [
    {
     "name": "stdout",
     "output_type": "stream",
     "text": [
      "app_usage_time has : no outliers\n",
      "\n",
      "screen_on_time(h/day) has : no outliers\n",
      "\n",
      "battery_drain has : no outliers\n",
      "\n",
      "num_of_installed_apps has : no outliers\n",
      "\n",
      "data_usage(mb/day) has : no outliers\n",
      "\n",
      "age has : no outliers\n",
      "\n"
     ]
    }
   ],
   "source": [
    "for column in num_cols: \n",
    "    # Plot boxplot if there are outliers\n",
    "    if check_outlier(df,column) :\n",
    "        fig = px.box(df, y=column, title=f'Boxplot of {column} with Outliers')\n",
    "        fig.show()\n",
    "        \n",
    "    else:\n",
    "        print(f\"{column} has : no outliers\\n\")\n"
   ]
  },
  {
   "cell_type": "markdown",
   "metadata": {},
   "source": [
    "There are no outliers in the data we have!\n",
    "\n",
    "It is probably a manually collected data so it is not surprising.\n",
    "\n",
    "There are no missing values, there are no duplicate records, we are dealing with a clean data set."
   ]
  },
  {
   "cell_type": "markdown",
   "metadata": {},
   "source": [
    "## Let's Try to Derive New Features\n",
    "\n",
    "For example, we can determine the relationship between screen time and battery drain by dividing the two. This way, we can see how much battery is consumed while the screen is on.\n",
    "\n",
    "If we learn the battery capacity of each phone model, and then obtain the average battery consumption, we can estimate how many hours the phone will stay on. Of course, we will consider how much the battery is drained each hour the screen is on, which will cause it to look like the battery consumption is the same every hour the screen is on. This is an assumption, of course, and it might be reconsidered, but it doesn't seem that important.\n",
    "\n",
    "Since we have the battery capacity and battery consumption values, we can also find out how many times the battery will drain in a full day."
   ]
  },
  {
   "cell_type": "code",
   "execution_count": 25,
   "metadata": {
    "execution": {
     "iopub.execute_input": "2024-11-25T17:43:27.287361Z",
     "iopub.status.busy": "2024-11-25T17:43:27.286880Z",
     "iopub.status.idle": "2024-11-25T17:43:27.313972Z",
     "shell.execute_reply": "2024-11-25T17:43:27.312530Z",
     "shell.execute_reply.started": "2024-11-25T17:43:27.287323Z"
    }
   },
   "outputs": [
    {
     "data": {
      "text/html": [
       "<div>\n",
       "<style scoped>\n",
       "    .dataframe tbody tr th:only-of-type {\n",
       "        vertical-align: middle;\n",
       "    }\n",
       "\n",
       "    .dataframe tbody tr th {\n",
       "        vertical-align: top;\n",
       "    }\n",
       "\n",
       "    .dataframe thead th {\n",
       "        text-align: right;\n",
       "    }\n",
       "</style>\n",
       "<table border=\"1\" class=\"dataframe\">\n",
       "  <thead>\n",
       "    <tr style=\"text-align: right;\">\n",
       "      <th></th>\n",
       "      <th>device_model</th>\n",
       "      <th>operating_system</th>\n",
       "      <th>app_usage_time</th>\n",
       "      <th>screen_on_time(h/day)</th>\n",
       "      <th>battery_drain</th>\n",
       "      <th>num_of_installed_apps</th>\n",
       "      <th>data_usage(mb/day)</th>\n",
       "      <th>age</th>\n",
       "      <th>gender</th>\n",
       "      <th>user_behavior_class</th>\n",
       "      <th>capacity</th>\n",
       "      <th>avg_power_consumption</th>\n",
       "      <th>Battery_life</th>\n",
       "      <th>cycle_number_per_day</th>\n",
       "    </tr>\n",
       "  </thead>\n",
       "  <tbody>\n",
       "    <tr>\n",
       "      <th>0</th>\n",
       "      <td>Google Pixel 5</td>\n",
       "      <td>Android</td>\n",
       "      <td>393</td>\n",
       "      <td>6.40</td>\n",
       "      <td>1872</td>\n",
       "      <td>67</td>\n",
       "      <td>1122</td>\n",
       "      <td>40</td>\n",
       "      <td>Male</td>\n",
       "      <td>4</td>\n",
       "      <td>4080</td>\n",
       "      <td>292.50</td>\n",
       "      <td>13.95</td>\n",
       "      <td>0.46</td>\n",
       "    </tr>\n",
       "    <tr>\n",
       "      <th>1</th>\n",
       "      <td>OnePlus 9</td>\n",
       "      <td>Android</td>\n",
       "      <td>268</td>\n",
       "      <td>4.70</td>\n",
       "      <td>1331</td>\n",
       "      <td>42</td>\n",
       "      <td>944</td>\n",
       "      <td>47</td>\n",
       "      <td>Female</td>\n",
       "      <td>3</td>\n",
       "      <td>4500</td>\n",
       "      <td>283.19</td>\n",
       "      <td>15.89</td>\n",
       "      <td>0.30</td>\n",
       "    </tr>\n",
       "    <tr>\n",
       "      <th>2</th>\n",
       "      <td>Xiaomi Mi 11</td>\n",
       "      <td>Android</td>\n",
       "      <td>154</td>\n",
       "      <td>4.00</td>\n",
       "      <td>761</td>\n",
       "      <td>32</td>\n",
       "      <td>322</td>\n",
       "      <td>42</td>\n",
       "      <td>Male</td>\n",
       "      <td>2</td>\n",
       "      <td>4600</td>\n",
       "      <td>190.25</td>\n",
       "      <td>24.18</td>\n",
       "      <td>0.17</td>\n",
       "    </tr>\n",
       "    <tr>\n",
       "      <th>3</th>\n",
       "      <td>Google Pixel 5</td>\n",
       "      <td>Android</td>\n",
       "      <td>239</td>\n",
       "      <td>4.80</td>\n",
       "      <td>1676</td>\n",
       "      <td>56</td>\n",
       "      <td>871</td>\n",
       "      <td>20</td>\n",
       "      <td>Male</td>\n",
       "      <td>3</td>\n",
       "      <td>4080</td>\n",
       "      <td>349.17</td>\n",
       "      <td>11.68</td>\n",
       "      <td>0.41</td>\n",
       "    </tr>\n",
       "    <tr>\n",
       "      <th>4</th>\n",
       "      <td>iPhone 12</td>\n",
       "      <td>iOS</td>\n",
       "      <td>187</td>\n",
       "      <td>4.30</td>\n",
       "      <td>1367</td>\n",
       "      <td>58</td>\n",
       "      <td>988</td>\n",
       "      <td>31</td>\n",
       "      <td>Female</td>\n",
       "      <td>3</td>\n",
       "      <td>2815</td>\n",
       "      <td>317.91</td>\n",
       "      <td>8.85</td>\n",
       "      <td>0.49</td>\n",
       "    </tr>\n",
       "    <tr>\n",
       "      <th>...</th>\n",
       "      <td>...</td>\n",
       "      <td>...</td>\n",
       "      <td>...</td>\n",
       "      <td>...</td>\n",
       "      <td>...</td>\n",
       "      <td>...</td>\n",
       "      <td>...</td>\n",
       "      <td>...</td>\n",
       "      <td>...</td>\n",
       "      <td>...</td>\n",
       "      <td>...</td>\n",
       "      <td>...</td>\n",
       "      <td>...</td>\n",
       "      <td>...</td>\n",
       "    </tr>\n",
       "    <tr>\n",
       "      <th>695</th>\n",
       "      <td>iPhone 12</td>\n",
       "      <td>iOS</td>\n",
       "      <td>92</td>\n",
       "      <td>3.90</td>\n",
       "      <td>1082</td>\n",
       "      <td>26</td>\n",
       "      <td>381</td>\n",
       "      <td>22</td>\n",
       "      <td>Male</td>\n",
       "      <td>2</td>\n",
       "      <td>2815</td>\n",
       "      <td>277.44</td>\n",
       "      <td>10.15</td>\n",
       "      <td>0.38</td>\n",
       "    </tr>\n",
       "    <tr>\n",
       "      <th>696</th>\n",
       "      <td>Xiaomi Mi 11</td>\n",
       "      <td>Android</td>\n",
       "      <td>316</td>\n",
       "      <td>6.80</td>\n",
       "      <td>1965</td>\n",
       "      <td>68</td>\n",
       "      <td>1201</td>\n",
       "      <td>59</td>\n",
       "      <td>Male</td>\n",
       "      <td>4</td>\n",
       "      <td>4600</td>\n",
       "      <td>288.97</td>\n",
       "      <td>15.92</td>\n",
       "      <td>0.43</td>\n",
       "    </tr>\n",
       "    <tr>\n",
       "      <th>697</th>\n",
       "      <td>Google Pixel 5</td>\n",
       "      <td>Android</td>\n",
       "      <td>99</td>\n",
       "      <td>3.10</td>\n",
       "      <td>942</td>\n",
       "      <td>22</td>\n",
       "      <td>457</td>\n",
       "      <td>50</td>\n",
       "      <td>Female</td>\n",
       "      <td>2</td>\n",
       "      <td>4080</td>\n",
       "      <td>303.87</td>\n",
       "      <td>13.43</td>\n",
       "      <td>0.23</td>\n",
       "    </tr>\n",
       "    <tr>\n",
       "      <th>698</th>\n",
       "      <td>Samsung Galaxy S21</td>\n",
       "      <td>Android</td>\n",
       "      <td>62</td>\n",
       "      <td>1.70</td>\n",
       "      <td>431</td>\n",
       "      <td>13</td>\n",
       "      <td>224</td>\n",
       "      <td>44</td>\n",
       "      <td>Male</td>\n",
       "      <td>1</td>\n",
       "      <td>4000</td>\n",
       "      <td>253.53</td>\n",
       "      <td>15.78</td>\n",
       "      <td>0.11</td>\n",
       "    </tr>\n",
       "    <tr>\n",
       "      <th>699</th>\n",
       "      <td>OnePlus 9</td>\n",
       "      <td>Android</td>\n",
       "      <td>212</td>\n",
       "      <td>5.40</td>\n",
       "      <td>1306</td>\n",
       "      <td>49</td>\n",
       "      <td>828</td>\n",
       "      <td>23</td>\n",
       "      <td>Female</td>\n",
       "      <td>3</td>\n",
       "      <td>4500</td>\n",
       "      <td>241.85</td>\n",
       "      <td>18.61</td>\n",
       "      <td>0.29</td>\n",
       "    </tr>\n",
       "  </tbody>\n",
       "</table>\n",
       "<p>700 rows × 14 columns</p>\n",
       "</div>"
      ],
      "text/plain": [
       "           device_model operating_system  app_usage_time  \\\n",
       "0        Google Pixel 5          Android             393   \n",
       "1             OnePlus 9          Android             268   \n",
       "2          Xiaomi Mi 11          Android             154   \n",
       "3        Google Pixel 5          Android             239   \n",
       "4             iPhone 12              iOS             187   \n",
       "..                  ...              ...             ...   \n",
       "695           iPhone 12              iOS              92   \n",
       "696        Xiaomi Mi 11          Android             316   \n",
       "697      Google Pixel 5          Android              99   \n",
       "698  Samsung Galaxy S21          Android              62   \n",
       "699           OnePlus 9          Android             212   \n",
       "\n",
       "     screen_on_time(h/day)  battery_drain  num_of_installed_apps  \\\n",
       "0                     6.40           1872                     67   \n",
       "1                     4.70           1331                     42   \n",
       "2                     4.00            761                     32   \n",
       "3                     4.80           1676                     56   \n",
       "4                     4.30           1367                     58   \n",
       "..                     ...            ...                    ...   \n",
       "695                   3.90           1082                     26   \n",
       "696                   6.80           1965                     68   \n",
       "697                   3.10            942                     22   \n",
       "698                   1.70            431                     13   \n",
       "699                   5.40           1306                     49   \n",
       "\n",
       "     data_usage(mb/day)  age  gender  user_behavior_class  capacity  \\\n",
       "0                  1122   40    Male                    4      4080   \n",
       "1                   944   47  Female                    3      4500   \n",
       "2                   322   42    Male                    2      4600   \n",
       "3                   871   20    Male                    3      4080   \n",
       "4                   988   31  Female                    3      2815   \n",
       "..                  ...  ...     ...                  ...       ...   \n",
       "695                 381   22    Male                    2      2815   \n",
       "696                1201   59    Male                    4      4600   \n",
       "697                 457   50  Female                    2      4080   \n",
       "698                 224   44    Male                    1      4000   \n",
       "699                 828   23  Female                    3      4500   \n",
       "\n",
       "     avg_power_consumption  Battery_life  cycle_number_per_day  \n",
       "0                   292.50         13.95                  0.46  \n",
       "1                   283.19         15.89                  0.30  \n",
       "2                   190.25         24.18                  0.17  \n",
       "3                   349.17         11.68                  0.41  \n",
       "4                   317.91          8.85                  0.49  \n",
       "..                     ...           ...                   ...  \n",
       "695                 277.44         10.15                  0.38  \n",
       "696                 288.97         15.92                  0.43  \n",
       "697                 303.87         13.43                  0.23  \n",
       "698                 253.53         15.78                  0.11  \n",
       "699                 241.85         18.61                  0.29  \n",
       "\n",
       "[700 rows x 14 columns]"
      ]
     },
     "execution_count": 25,
     "metadata": {},
     "output_type": "execute_result"
    }
   ],
   "source": [
    "capacity = {'Google Pixel 5': 4080, 'OnePlus 9': 4500, \n",
    "            'Xiaomi Mi 11': 4600, 'iPhone 12': 2815, 'Samsung Galaxy S21':4000}\n",
    "# reference: https://m.gsmarena.com/\n",
    "\n",
    "\n",
    "df['capacity'] = data['Device Model'].apply(lambda x: capacity[x] if x in capacity else 'NaN')\n",
    "df['avg_power_consumption'] = df['battery_drain']/df['screen_on_time(h/day)']\n",
    "\n",
    "df['Battery_life'] = df['capacity']/df['avg_power_consumption']\n",
    "df[df['Battery_life'] < df['screen_on_time(h/day)']]\n",
    "df['cycle_number_per_day'] = df['battery_drain']/df['capacity']\n",
    "df"
   ]
  },
  {
   "cell_type": "markdown",
   "metadata": {},
   "source": [
    "The following part comes from a research that has been used a lot in studies on this notebook, I am adding it because I find it interesting."
   ]
  },
  {
   "cell_type": "code",
   "execution_count": 26,
   "metadata": {
    "execution": {
     "iopub.execute_input": "2024-11-25T17:51:32.883136Z",
     "iopub.status.busy": "2024-11-25T17:51:32.882725Z",
     "iopub.status.idle": "2024-11-25T17:51:32.889241Z",
     "shell.execute_reply": "2024-11-25T17:51:32.888088Z",
     "shell.execute_reply.started": "2024-11-25T17:51:32.883100Z"
    }
   },
   "outputs": [],
   "source": [
    "df['cycle_number_in_400days'] = df['cycle_number_per_day']* 400"
   ]
  },
  {
   "cell_type": "code",
   "execution_count": 27,
   "metadata": {
    "execution": {
     "iopub.execute_input": "2024-11-25T17:51:40.032820Z",
     "iopub.status.busy": "2024-11-25T17:51:40.032325Z",
     "iopub.status.idle": "2024-11-25T17:51:40.050347Z",
     "shell.execute_reply": "2024-11-25T17:51:40.048848Z",
     "shell.execute_reply.started": "2024-11-25T17:51:40.032778Z"
    }
   },
   "outputs": [
    {
     "data": {
      "text/html": [
       "<div>\n",
       "<style scoped>\n",
       "    .dataframe tbody tr th:only-of-type {\n",
       "        vertical-align: middle;\n",
       "    }\n",
       "\n",
       "    .dataframe tbody tr th {\n",
       "        vertical-align: top;\n",
       "    }\n",
       "\n",
       "    .dataframe thead th {\n",
       "        text-align: right;\n",
       "    }\n",
       "</style>\n",
       "<table border=\"1\" class=\"dataframe\">\n",
       "  <thead>\n",
       "    <tr style=\"text-align: right;\">\n",
       "      <th></th>\n",
       "      <th>device_model</th>\n",
       "      <th>operating_system</th>\n",
       "      <th>app_usage_time</th>\n",
       "      <th>screen_on_time(h/day)</th>\n",
       "      <th>battery_drain</th>\n",
       "      <th>num_of_installed_apps</th>\n",
       "      <th>data_usage(mb/day)</th>\n",
       "      <th>age</th>\n",
       "      <th>gender</th>\n",
       "      <th>user_behavior_class</th>\n",
       "      <th>capacity</th>\n",
       "      <th>avg_power_consumption</th>\n",
       "      <th>Battery_life</th>\n",
       "      <th>cycle_number_per_day</th>\n",
       "      <th>cycle_number_in_400days</th>\n",
       "    </tr>\n",
       "  </thead>\n",
       "  <tbody>\n",
       "    <tr>\n",
       "      <th>147</th>\n",
       "      <td>Xiaomi Mi 11</td>\n",
       "      <td>Android</td>\n",
       "      <td>52</td>\n",
       "      <td>1.60</td>\n",
       "      <td>385</td>\n",
       "      <td>19</td>\n",
       "      <td>234</td>\n",
       "      <td>24</td>\n",
       "      <td>Male</td>\n",
       "      <td>1</td>\n",
       "      <td>4600</td>\n",
       "      <td>240.62</td>\n",
       "      <td>19.12</td>\n",
       "      <td>0.08</td>\n",
       "      <td>33.48</td>\n",
       "    </tr>\n",
       "  </tbody>\n",
       "</table>\n",
       "</div>"
      ],
      "text/plain": [
       "     device_model operating_system  app_usage_time  screen_on_time(h/day)  \\\n",
       "147  Xiaomi Mi 11          Android              52                   1.60   \n",
       "\n",
       "     battery_drain  num_of_installed_apps  data_usage(mb/day)  age gender  \\\n",
       "147            385                     19                 234   24   Male   \n",
       "\n",
       "     user_behavior_class  capacity  avg_power_consumption  Battery_life  \\\n",
       "147                    1      4600                 240.62         19.12   \n",
       "\n",
       "     cycle_number_per_day  cycle_number_in_400days  \n",
       "147                  0.08                    33.48  "
      ]
     },
     "execution_count": 27,
     "metadata": {},
     "output_type": "execute_result"
    }
   ],
   "source": [
    "df.sample()"
   ]
  },
  {
   "cell_type": "code",
   "execution_count": 28,
   "metadata": {
    "execution": {
     "iopub.execute_input": "2024-11-25T17:53:55.058232Z",
     "iopub.status.busy": "2024-11-25T17:53:55.057735Z",
     "iopub.status.idle": "2024-11-25T17:53:56.438276Z",
     "shell.execute_reply": "2024-11-25T17:53:56.437089Z",
     "shell.execute_reply.started": "2024-11-25T17:53:55.058169Z"
    }
   },
   "outputs": [
    {
     "data": {
      "text/html": [
       "<iframe\n",
       "    scrolling=\"no\"\n",
       "    width=\"100%\"\n",
       "    height=\"545px\"\n",
       "    src=\"iframe_figures/figure_28.html\"\n",
       "    frameborder=\"0\"\n",
       "    allowfullscreen\n",
       "></iframe>\n"
      ]
     },
     "metadata": {},
     "output_type": "display_data"
    }
   ],
   "source": [
    "fig = px.scatter(df, x='capacity', y='cycle_number_in_400days',\n",
    "                 color='device_model', size='screen_on_time(h/day)')\n",
    "\n",
    "\n",
    "fig.add_shape(type=\"line\",\n",
    "              x0=df['capacity'].min()-500, x1=df['capacity'].max()+500,  # Extend the line across the plot\n",
    "              y0=400, y1=400,  # Position the line at y = 400\n",
    "              line=dict(color=\"red\", width=2, dash=\"dash\"),\n",
    "              name=\"Threshold at 400\")\n",
    "\n",
    "# Update layout with increased height and better spacing\n",
    "fig.update_layout(\n",
    "    title=\"Battery health degradation\",\n",
    "    plot_bgcolor='white',  # White background for the entire plot\n",
    "    paper_bgcolor='white',  # White background for the paper as well\n",
    "    hovermode=\"y unified\",  # Unified hovermode for better interaction\n",
    "    title_font=dict(size=20))\n",
    "\n",
    "fig.show(renderer='iframe_connected')"
   ]
  },
  {
   "cell_type": "code",
   "execution_count": 29,
   "metadata": {
    "execution": {
     "iopub.execute_input": "2024-11-25T18:08:38.518811Z",
     "iopub.status.busy": "2024-11-25T18:08:38.518324Z",
     "iopub.status.idle": "2024-11-25T18:08:38.524970Z",
     "shell.execute_reply": "2024-11-25T18:08:38.523534Z",
     "shell.execute_reply.started": "2024-11-25T18:08:38.518771Z"
    }
   },
   "outputs": [],
   "source": [
    "num_cols.extend(['cycle_number_per_day' ,'Battery_life','avg_power_consumption', 'capacity'])"
   ]
  },
  {
   "cell_type": "markdown",
   "metadata": {},
   "source": [
    "# Multivariate Analysis\n",
    "\n"
   ]
  },
  {
   "cell_type": "code",
   "execution_count": 30,
   "metadata": {
    "execution": {
     "iopub.execute_input": "2024-11-25T18:13:01.395019Z",
     "iopub.status.busy": "2024-11-25T18:13:01.394509Z",
     "iopub.status.idle": "2024-11-25T18:13:03.601781Z",
     "shell.execute_reply": "2024-11-25T18:13:03.600500Z",
     "shell.execute_reply.started": "2024-11-25T18:13:01.394975Z"
    }
   },
   "outputs": [],
   "source": [
    "# sns.pairplot(data = df,vars=num_cols, hue='user_behavior_class') \n",
    "# Burada incelemek istediğin sütunları bırak sadece\n",
    "\n",
    "# fig = plt.figure(figsize=(12,6))\n",
    "# mask = np.zeros_like(df[num_cols].corr(numeric_only=True))\n",
    "# mask[np.triu_indices_from(mask)] = True\n",
    "\n",
    "\n",
    "# f, ax = plt.subplots(figsize=(10, 10))\n",
    "# sns.heatmap(df[num_cols].corr(numeric_only=True), annot=True, fmt='.2f',\n",
    "#             vmin=-1, vmax=1,\n",
    "#             ax=ax, cmap='coolwarm', mask=mask)\n",
    "# plt.xticks(rotation=90)\n",
    "# plt.yticks(rotation=0)\n",
    "# plt.title('Heat Map', size=14)\n",
    "# plt.show()"
   ]
  },
  {
   "cell_type": "markdown",
   "metadata": {},
   "source": [
    "In fact, the variables with high correlation with the User Behavior Class variable are directly revealed, except for the age feature, other features fit into a certain pattern, this is a good thing of course :)"
   ]
  },
  {
   "cell_type": "markdown",
   "metadata": {},
   "source": [
    "# Classification / Model Construct"
   ]
  },
  {
   "cell_type": "code",
   "execution_count": 31,
   "metadata": {
    "execution": {
     "iopub.execute_input": "2024-11-25T18:11:03.333177Z",
     "iopub.status.busy": "2024-11-25T18:11:03.332690Z",
     "iopub.status.idle": "2024-11-25T18:11:03.870606Z",
     "shell.execute_reply": "2024-11-25T18:11:03.869327Z",
     "shell.execute_reply.started": "2024-11-25T18:11:03.333132Z"
    }
   },
   "outputs": [],
   "source": [
    "from sklearn.compose import ColumnTransformer\n",
    "from sklearn.pipeline import Pipeline\n",
    "from sklearn.preprocessing import StandardScaler, OneHotEncoder # \n",
    "\n",
    "    \n",
    "from sklearn.ensemble import RandomForestClassifier\n",
    "from sklearn.linear_model import LogisticRegression\n",
    "from sklearn.svm import SVC\n",
    "from sklearn.tree import DecisionTreeClassifier\n",
    "from sklearn.neighbors import KNeighborsClassifier \n",
    "\n",
    "from sklearn.model_selection import train_test_split, cross_val_score\n",
    "from sklearn.metrics import classification_report \n",
    "from sklearn.metrics import accuracy_score, precision_score, recall_score, f1_score\n",
    "\n",
    "from sklearn.model_selection import RandomizedSearchCV"
   ]
  },
  {
   "cell_type": "code",
   "execution_count": 32,
   "metadata": {},
   "outputs": [],
   "source": [
    "def evaluate_classification(model, test_features, test_labels):\n",
    "    predictions = model.predict(test_features)  # Modelin tahminlerini al  \n",
    "    \n",
    "    # Performans hesaplıyoruz.\n",
    "    accuracy = accuracy_score(test_labels, predictions)\n",
    "    precision = precision_score(test_labels, predictions, average='weighted')  # Weighted için sınıf dengesi\n",
    "    recall = recall_score(test_labels, predictions, average='weighted')\n",
    "    f1 = f1_score(test_labels, predictions, average='weighted')\n",
    "    \n",
    "    \n",
    "    print(f\"\\nModel Performance for {type(model).__name__}\")\n",
    "    print(f\"Accuracy: {accuracy:.2f}\")\n",
    "    print(f\"Precision: {precision:.2f}\")\n",
    "    print(f\"Recall: {recall:.2f}\")\n",
    "    print(f\"F1 Score: {f1:.2f}\")\n",
    "    # bir sözlük şeklinde tüm skorları da döndürebilir ama benim amacım sadece yazdımak.\n",
    "    return accuracy"
   ]
  },
  {
   "cell_type": "code",
   "execution_count": 33,
   "metadata": {},
   "outputs": [],
   "source": [
    "X = df.drop(columns = [\"user_behavior_class\"] , axis = 1)\n",
    "y = df[\"user_behavior_class\"]"
   ]
  },
  {
   "cell_type": "code",
   "execution_count": 34,
   "metadata": {},
   "outputs": [],
   "source": [
    "# Eğer cat_cols listesinden user_behavior_class ı çıkarırsan \n",
    "# aşağıdaki koda fazla gerek kalmıyor aslında ama standart işlem olsun.\n",
    "cat_cols = X.select_dtypes(include=['object']).columns.values\n",
    "num_cols = X.select_dtypes(include=np.number).columns.tolist()"
   ]
  },
  {
   "cell_type": "code",
   "execution_count": 35,
   "metadata": {},
   "outputs": [],
   "source": [
    "# Data Preprocessing\n",
    "\n",
    "preprocessor = ColumnTransformer(\n",
    "    transformers=[\n",
    "        ('num', StandardScaler(), num_cols),\n",
    "        ('cat', OneHotEncoder(drop='first'), cat_cols)\n",
    "    ])"
   ]
  },
  {
   "cell_type": "markdown",
   "metadata": {},
   "source": [
    "**Applying Standard Scaler for numerical data and OneHotEncoder for categorical data**\n",
    "\n",
    "**1. ColumnTransformer:**\n",
    "\n",
    "The `ColumnTransformer` is used to apply different preprocessing steps to columns with different data types.\n",
    "\n",
    "* **`transformers` parameter**: This defines a list where each element specifies which transformation to apply to which columns.\n",
    "\n",
    "    * In the first element **(\"num\", StandardScaler(), num_cols)**:\n",
    "        * **\"num\"**: This is a name given to the transformer for identification.\n",
    "        * **`StandardScaler()`**: Scales numerical columns (`num_cols`) so that they have a mean of 0 and a variance of 1.\n",
    "        * **`num_cols`**: Specifies the columns to which the transformer will be applied (numerical columns).\n",
    "    \n",
    "    * In the second element **(\"cat\", OneHotEncoder(drop='first'), cat_cols)**:\n",
    "        * **\"cat\"**: This is a name given to the transformer for identification.\n",
    "        * **`OneHotEncoder(drop='first')`**: Transforms categorical columns (`cat_cols`) using one-hot encoding. The `drop='first'` parameter drops the first category, reducing dimensionality.\n",
    "        * **`cat_cols`**: Specifies the columns to which the transformer will be applied (categorical columns).\n",
    "\n",
    "---\n",
    "\n",
    "**2. Pipeline:**\n",
    "\n",
    "The `Pipeline` function combines multiple data processing steps into a single, unified process. In your code, it combines the data preprocessing step defined by the `ColumnTransformer` with the classifier of your choice to create a machine learning model.\n",
    "\n",
    "* **`steps` parameter**: This defines a list where steps are added in sequence.\n",
    "    * **In the first step (\"preprocessor\", preprocessor):**\n",
    "        * `\"preprocessor\"`: A name for this step.\n",
    "        * `preprocessor`: The `ColumnTransformer` object defined earlier.\n",
    "    * **In the second step (\"classifier\", clf):**\n",
    "        * `\"classifier\"`: A name for this step.\n",
    "        * `clf`: Represents the classifier you select from the `classifiers` dictionary (e.g., `RandomForestClassifier`).\n",
    "\n",
    "The `Pipeline` first preprocesses the data using the `ColumnTransformer` and then trains the classifier to make predictions. This approach makes your code more organized and readable.\n",
    "\n",
    "---\n",
    "\n",
    "**Summary:**\n",
    "\n",
    "* `ColumnTransformer` allows you to apply different preprocessing steps based on data types.\n",
    "* `Pipeline` integrates multiple preprocessing and modeling steps into a single streamlined process, keeping your code cleaner and easier to manage."
   ]
  },
  {
   "cell_type": "code",
   "execution_count": 36,
   "metadata": {},
   "outputs": [],
   "source": [
    "# Models\n",
    "classifiers = {\n",
    "    'RandomForest': RandomForestClassifier(random_state=42),\n",
    "    'LogisticRegression': LogisticRegression(max_iter=200),\n",
    "    'SVM': SVC(),\n",
    "    'DecisionTree': DecisionTreeClassifier(),\n",
    "    'KNeighbors': KNeighborsClassifier()\n",
    "}\n"
   ]
  },
  {
   "cell_type": "code",
   "execution_count": 37,
   "metadata": {},
   "outputs": [],
   "source": [
    "X_train, X_test, y_train, y_test = train_test_split(X, y, test_size=0.3, random_state=42, stratify=y)"
   ]
  },
  {
   "cell_type": "code",
   "execution_count": 38,
   "metadata": {
    "scrolled": false
   },
   "outputs": [
    {
     "data": {
      "image/png": "[encoded data removed]",
      "text/plain": [
       "<Figure size 1000x600 with 1 Axes>"
      ]
     },
     "metadata": {},
     "output_type": "display_data"
    },
    {
     "name": "stdout",
     "output_type": "stream",
     "text": [
      "                    precision  recall  f1-score\n",
      "RandomForest             1.00    1.00      1.00\n",
      "LogisticRegression       1.00    1.00      1.00\n",
      "SVM                      1.00    1.00      1.00\n",
      "DecisionTree             1.00    1.00      1.00\n",
      "KNeighbors               0.99    0.99      0.99\n"
     ]
    }
   ],
   "source": [
    "# Model Training and Model evaluation\n",
    "\n",
    "# Sonuçları kaydetmek için sözlük oluşturuyoruz.\n",
    "scores = {'precision': {}, 'recall': {}, 'f1-score': {}}\n",
    "\n",
    "\n",
    "for name, clf in classifiers.items():\n",
    "    model = Pipeline(\n",
    "        steps=[\n",
    "        ('preprocessor', preprocessor),\n",
    "        ('classifier', clf)\n",
    "    ])\n",
    "    model.fit(X_train, y_train)\n",
    "    y_pred = model.predict(X_test)\n",
    "\n",
    "    # Test\n",
    "    report = classification_report(y_test, y_pred, output_dict=True)\n",
    "    \n",
    "    # Macro avg değerlerini kaydet\n",
    "    scores['precision'][name] = report['macro avg']['precision']\n",
    "    scores['recall'][name] = report['macro avg']['recall']\n",
    "    scores['f1-score'][name] = report['macro avg']['f1-score']\n",
    "\n",
    "    # Sözlüğü DataFrame'e dönüştür\n",
    "    scores_df = pd.DataFrame(scores)\n",
    "\n",
    "# Bar Grafik Çizimi\n",
    "scores_df.plot(kind='bar', figsize=(10, 6), colormap='inferno')# Germany:)\n",
    "plt.title(\"Performance Comparison of Models\")\n",
    "plt.ylabel(\"Score\")\n",
    "plt.xlabel(\"Models\")\n",
    "plt.xticks(rotation=45)\n",
    "plt.legend(title=\"Metrics\")\n",
    "plt.grid(axis='y', linestyle='--', alpha=0.7)\n",
    "plt.tight_layout()\n",
    "plt.show()\n",
    "print(scores_df)"
   ]
  },
  {
   "cell_type": "markdown",
   "metadata": {},
   "source": [
    "Let's assume that we use RandomForest in particular. We use it in combination with hyperparameter optimization."
   ]
  },
  {
   "cell_type": "code",
   "execution_count": 39,
   "metadata": {},
   "outputs": [],
   "source": [
    "# Pipeline oluştur: önce ön işleme, sonra model\n",
    "pipeline = Pipeline(\n",
    "    steps=[\n",
    "        ('preprocessor', preprocessor),  # Veri ön işleme\n",
    "        ('classifier', RandomForestClassifier(random_state=42))  # Model\n",
    "    ])"
   ]
  },
  {
   "cell_type": "code",
   "execution_count": 40,
   "metadata": {},
   "outputs": [
    {
     "name": "stdout",
     "output_type": "stream",
     "text": [
      "Fitting 5 folds for each of 50 candidates, totalling 250 fits\n"
     ]
    },
    {
     "data": {
      "text/html": [
       "<style>#sk-container-id-1 {color: black;}#sk-container-id-1 pre{padding: 0;}#sk-container-id-1 div.sk-toggleable {background-color: white;}#sk-container-id-1 label.sk-toggleable__label {cursor: pointer;display: block;width: 100%;margin-bottom: 0;padding: 0.3em;box-sizing: border-box;text-align: center;}#sk-container-id-1 label.sk-toggleable__label-arrow:before {content: \"▸\";float: left;margin-right: 0.25em;color: #696969;}#sk-container-id-1 label.sk-toggleable__label-arrow:hover:before {color: black;}#sk-container-id-1 div.sk-estimator:hover label.sk-toggleable__label-arrow:before {color: black;}#sk-container-id-1 div.sk-toggleable__content {max-height: 0;max-width: 0;overflow: hidden;text-align: left;background-color: #f0f8ff;}#sk-container-id-1 div.sk-toggleable__content pre {margin: 0.2em;color: black;border-radius: 0.25em;background-color: #f0f8ff;}#sk-container-id-1 input.sk-toggleable__control:checked~div.sk-toggleable__content {max-height: 200px;max-width: 100%;overflow: auto;}#sk-container-id-1 input.sk-toggleable__control:checked~label.sk-toggleable__label-arrow:before {content: \"▾\";}#sk-container-id-1 div.sk-estimator input.sk-toggleable__control:checked~label.sk-toggleable__label {background-color: #d4ebff;}#sk-container-id-1 div.sk-label input.sk-toggleable__control:checked~label.sk-toggleable__label {background-color: #d4ebff;}#sk-container-id-1 input.sk-hidden--visually {border: 0;clip: rect(1px 1px 1px 1px);clip: rect(1px, 1px, 1px, 1px);height: 1px;margin: -1px;overflow: hidden;padding: 0;position: absolute;width: 1px;}#sk-container-id-1 div.sk-estimator {font-family: monospace;background-color: #f0f8ff;border: 1px dotted black;border-radius: 0.25em;box-sizing: border-box;margin-bottom: 0.5em;}#sk-container-id-1 div.sk-estimator:hover {background-color: #d4ebff;}#sk-container-id-1 div.sk-parallel-item::after {content: \"\";width: 100%;border-bottom: 1px solid gray;flex-grow: 1;}#sk-container-id-1 div.sk-label:hover label.sk-toggleable__label {background-color: #d4ebff;}#sk-container-id-1 div.sk-serial::before {content: \"\";position: absolute;border-left: 1px solid gray;box-sizing: border-box;top: 0;bottom: 0;left: 50%;z-index: 0;}#sk-container-id-1 div.sk-serial {display: flex;flex-direction: column;align-items: center;background-color: white;padding-right: 0.2em;padding-left: 0.2em;position: relative;}#sk-container-id-1 div.sk-item {position: relative;z-index: 1;}#sk-container-id-1 div.sk-parallel {display: flex;align-items: stretch;justify-content: center;background-color: white;position: relative;}#sk-container-id-1 div.sk-item::before, #sk-container-id-1 div.sk-parallel-item::before {content: \"\";position: absolute;border-left: 1px solid gray;box-sizing: border-box;top: 0;bottom: 0;left: 50%;z-index: -1;}#sk-container-id-1 div.sk-parallel-item {display: flex;flex-direction: column;z-index: 1;position: relative;background-color: white;}#sk-container-id-1 div.sk-parallel-item:first-child::after {align-self: flex-end;width: 50%;}#sk-container-id-1 div.sk-parallel-item:last-child::after {align-self: flex-start;width: 50%;}#sk-container-id-1 div.sk-parallel-item:only-child::after {width: 0;}#sk-container-id-1 div.sk-dashed-wrapped {border: 1px dashed gray;margin: 0 0.4em 0.5em 0.4em;box-sizing: border-box;padding-bottom: 0.4em;background-color: white;}#sk-container-id-1 div.sk-label label {font-family: monospace;font-weight: bold;display: inline-block;line-height: 1.2em;}#sk-container-id-1 div.sk-label-container {text-align: center;}#sk-container-id-1 div.sk-container {/* jupyter's `normalize.less` sets `[hidden] { display: none; }` but bootstrap.min.css set `[hidden] { display: none !important; }` so we also need the `!important` here to be able to override the default hidden behavior on the sphinx rendered scikit-learn.org. See: https://github.com/scikit-learn/scikit-learn/issues/21755 */display: inline-block !important;position: relative;}#sk-container-id-1 div.sk-text-repr-fallback {display: none;}</style><div id=\"sk-container-id-1\" class=\"sk-top-container\"><div class=\"sk-text-repr-fallback\"><pre>RandomizedSearchCV(cv=5,\n",
       "                   estimator=Pipeline(steps=[(&#x27;preprocessor&#x27;,\n",
       "                                              ColumnTransformer(transformers=[(&#x27;num&#x27;,\n",
       "                                                                               StandardScaler(),\n",
       "                                                                               [&#x27;app_usage_time&#x27;,\n",
       "                                                                                &#x27;screen_on_time(h/day)&#x27;,\n",
       "                                                                                &#x27;battery_drain&#x27;,\n",
       "                                                                                &#x27;num_of_installed_apps&#x27;,\n",
       "                                                                                &#x27;data_usage(mb/day)&#x27;,\n",
       "                                                                                &#x27;age&#x27;,\n",
       "                                                                                &#x27;capacity&#x27;,\n",
       "                                                                                &#x27;avg_power_consumption&#x27;,\n",
       "                                                                                &#x27;Battery_life&#x27;,\n",
       "                                                                                &#x27;cycle_number_per_day&#x27;,\n",
       "                                                                                &#x27;cycle_number_in_400days&#x27;]),\n",
       "                                                                              (&#x27;cat&#x27;,\n",
       "                                                                               OneHotEncod...\n",
       "                                                                               array([&#x27;device_model&#x27;, &#x27;operating_system&#x27;, &#x27;gender&#x27;], dtype=object))])),\n",
       "                                             (&#x27;classifier&#x27;,\n",
       "                                              RandomForestClassifier(random_state=42))]),\n",
       "                   n_iter=50, n_jobs=-1,\n",
       "                   param_distributions={&#x27;classifier__bootstrap&#x27;: [True, False],\n",
       "                                        &#x27;classifier__max_depth&#x27;: [None, 10, 20,\n",
       "                                                                  30, 50],\n",
       "                                        &#x27;classifier__min_samples_leaf&#x27;: [1, 2,\n",
       "                                                                         4],\n",
       "                                        &#x27;classifier__min_samples_split&#x27;: [2, 5,\n",
       "                                                                          10],\n",
       "                                        &#x27;classifier__n_estimators&#x27;: [50, 100,\n",
       "                                                                     200,\n",
       "                                                                     300]},\n",
       "                   random_state=42, scoring=&#x27;accuracy&#x27;, verbose=2)</pre><b>In a Jupyter environment, please rerun this cell to show the HTML representation or trust the notebook. <br />On GitHub, the HTML representation is unable to render, please try loading this page with nbviewer.org.</b></div><div class=\"sk-container\" hidden><div class=\"sk-item sk-dashed-wrapped\"><div class=\"sk-label-container\"><div class=\"sk-label sk-toggleable\"><input class=\"sk-toggleable__control sk-hidden--visually\" id=\"sk-estimator-id-1\" type=\"checkbox\" ><label for=\"sk-estimator-id-1\" class=\"sk-toggleable__label sk-toggleable__label-arrow\">RandomizedSearchCV</label><div class=\"sk-toggleable__content\"><pre>RandomizedSearchCV(cv=5,\n",
       "                   estimator=Pipeline(steps=[(&#x27;preprocessor&#x27;,\n",
       "                                              ColumnTransformer(transformers=[(&#x27;num&#x27;,\n",
       "                                                                               StandardScaler(),\n",
       "                                                                               [&#x27;app_usage_time&#x27;,\n",
       "                                                                                &#x27;screen_on_time(h/day)&#x27;,\n",
       "                                                                                &#x27;battery_drain&#x27;,\n",
       "                                                                                &#x27;num_of_installed_apps&#x27;,\n",
       "                                                                                &#x27;data_usage(mb/day)&#x27;,\n",
       "                                                                                &#x27;age&#x27;,\n",
       "                                                                                &#x27;capacity&#x27;,\n",
       "                                                                                &#x27;avg_power_consumption&#x27;,\n",
       "                                                                                &#x27;Battery_life&#x27;,\n",
       "                                                                                &#x27;cycle_number_per_day&#x27;,\n",
       "                                                                                &#x27;cycle_number_in_400days&#x27;]),\n",
       "                                                                              (&#x27;cat&#x27;,\n",
       "                                                                               OneHotEncod...\n",
       "                                                                               array([&#x27;device_model&#x27;, &#x27;operating_system&#x27;, &#x27;gender&#x27;], dtype=object))])),\n",
       "                                             (&#x27;classifier&#x27;,\n",
       "                                              RandomForestClassifier(random_state=42))]),\n",
       "                   n_iter=50, n_jobs=-1,\n",
       "                   param_distributions={&#x27;classifier__bootstrap&#x27;: [True, False],\n",
       "                                        &#x27;classifier__max_depth&#x27;: [None, 10, 20,\n",
       "                                                                  30, 50],\n",
       "                                        &#x27;classifier__min_samples_leaf&#x27;: [1, 2,\n",
       "                                                                         4],\n",
       "                                        &#x27;classifier__min_samples_split&#x27;: [2, 5,\n",
       "                                                                          10],\n",
       "                                        &#x27;classifier__n_estimators&#x27;: [50, 100,\n",
       "                                                                     200,\n",
       "                                                                     300]},\n",
       "                   random_state=42, scoring=&#x27;accuracy&#x27;, verbose=2)</pre></div></div></div><div class=\"sk-parallel\"><div class=\"sk-parallel-item\"><div class=\"sk-item\"><div class=\"sk-label-container\"><div class=\"sk-label sk-toggleable\"><input class=\"sk-toggleable__control sk-hidden--visually\" id=\"sk-estimator-id-2\" type=\"checkbox\" ><label for=\"sk-estimator-id-2\" class=\"sk-toggleable__label sk-toggleable__label-arrow\">estimator: Pipeline</label><div class=\"sk-toggleable__content\"><pre>Pipeline(steps=[(&#x27;preprocessor&#x27;,\n",
       "                 ColumnTransformer(transformers=[(&#x27;num&#x27;, StandardScaler(),\n",
       "                                                  [&#x27;app_usage_time&#x27;,\n",
       "                                                   &#x27;screen_on_time(h/day)&#x27;,\n",
       "                                                   &#x27;battery_drain&#x27;,\n",
       "                                                   &#x27;num_of_installed_apps&#x27;,\n",
       "                                                   &#x27;data_usage(mb/day)&#x27;, &#x27;age&#x27;,\n",
       "                                                   &#x27;capacity&#x27;,\n",
       "                                                   &#x27;avg_power_consumption&#x27;,\n",
       "                                                   &#x27;Battery_life&#x27;,\n",
       "                                                   &#x27;cycle_number_per_day&#x27;,\n",
       "                                                   &#x27;cycle_number_in_400days&#x27;]),\n",
       "                                                 (&#x27;cat&#x27;,\n",
       "                                                  OneHotEncoder(drop=&#x27;first&#x27;),\n",
       "                                                  array([&#x27;device_model&#x27;, &#x27;operating_system&#x27;, &#x27;gender&#x27;], dtype=object))])),\n",
       "                (&#x27;classifier&#x27;, RandomForestClassifier(random_state=42))])</pre></div></div></div><div class=\"sk-serial\"><div class=\"sk-item\"><div class=\"sk-serial\"><div class=\"sk-item sk-dashed-wrapped\"><div class=\"sk-label-container\"><div class=\"sk-label sk-toggleable\"><input class=\"sk-toggleable__control sk-hidden--visually\" id=\"sk-estimator-id-3\" type=\"checkbox\" ><label for=\"sk-estimator-id-3\" class=\"sk-toggleable__label sk-toggleable__label-arrow\">preprocessor: ColumnTransformer</label><div class=\"sk-toggleable__content\"><pre>ColumnTransformer(transformers=[(&#x27;num&#x27;, StandardScaler(),\n",
       "                                 [&#x27;app_usage_time&#x27;, &#x27;screen_on_time(h/day)&#x27;,\n",
       "                                  &#x27;battery_drain&#x27;, &#x27;num_of_installed_apps&#x27;,\n",
       "                                  &#x27;data_usage(mb/day)&#x27;, &#x27;age&#x27;, &#x27;capacity&#x27;,\n",
       "                                  &#x27;avg_power_consumption&#x27;, &#x27;Battery_life&#x27;,\n",
       "                                  &#x27;cycle_number_per_day&#x27;,\n",
       "                                  &#x27;cycle_number_in_400days&#x27;]),\n",
       "                                (&#x27;cat&#x27;, OneHotEncoder(drop=&#x27;first&#x27;),\n",
       "                                 array([&#x27;device_model&#x27;, &#x27;operating_system&#x27;, &#x27;gender&#x27;], dtype=object))])</pre></div></div></div><div class=\"sk-parallel\"><div class=\"sk-parallel-item\"><div class=\"sk-item\"><div class=\"sk-label-container\"><div class=\"sk-label sk-toggleable\"><input class=\"sk-toggleable__control sk-hidden--visually\" id=\"sk-estimator-id-4\" type=\"checkbox\" ><label for=\"sk-estimator-id-4\" class=\"sk-toggleable__label sk-toggleable__label-arrow\">num</label><div class=\"sk-toggleable__content\"><pre>[&#x27;app_usage_time&#x27;, &#x27;screen_on_time(h/day)&#x27;, &#x27;battery_drain&#x27;, &#x27;num_of_installed_apps&#x27;, &#x27;data_usage(mb/day)&#x27;, &#x27;age&#x27;, &#x27;capacity&#x27;, &#x27;avg_power_consumption&#x27;, &#x27;Battery_life&#x27;, &#x27;cycle_number_per_day&#x27;, &#x27;cycle_number_in_400days&#x27;]</pre></div></div></div><div class=\"sk-serial\"><div class=\"sk-item\"><div class=\"sk-estimator sk-toggleable\"><input class=\"sk-toggleable__control sk-hidden--visually\" id=\"sk-estimator-id-5\" type=\"checkbox\" ><label for=\"sk-estimator-id-5\" class=\"sk-toggleable__label sk-toggleable__label-arrow\">StandardScaler</label><div class=\"sk-toggleable__content\"><pre>StandardScaler()</pre></div></div></div></div></div></div><div class=\"sk-parallel-item\"><div class=\"sk-item\"><div class=\"sk-label-container\"><div class=\"sk-label sk-toggleable\"><input class=\"sk-toggleable__control sk-hidden--visually\" id=\"sk-estimator-id-6\" type=\"checkbox\" ><label for=\"sk-estimator-id-6\" class=\"sk-toggleable__label sk-toggleable__label-arrow\">cat</label><div class=\"sk-toggleable__content\"><pre>[&#x27;device_model&#x27; &#x27;operating_system&#x27; &#x27;gender&#x27;]</pre></div></div></div><div class=\"sk-serial\"><div class=\"sk-item\"><div class=\"sk-estimator sk-toggleable\"><input class=\"sk-toggleable__control sk-hidden--visually\" id=\"sk-estimator-id-7\" type=\"checkbox\" ><label for=\"sk-estimator-id-7\" class=\"sk-toggleable__label sk-toggleable__label-arrow\">OneHotEncoder</label><div class=\"sk-toggleable__content\"><pre>OneHotEncoder(drop=&#x27;first&#x27;)</pre></div></div></div></div></div></div></div></div><div class=\"sk-item\"><div class=\"sk-estimator sk-toggleable\"><input class=\"sk-toggleable__control sk-hidden--visually\" id=\"sk-estimator-id-8\" type=\"checkbox\" ><label for=\"sk-estimator-id-8\" class=\"sk-toggleable__label sk-toggleable__label-arrow\">RandomForestClassifier</label><div class=\"sk-toggleable__content\"><pre>RandomForestClassifier(random_state=42)</pre></div></div></div></div></div></div></div></div></div></div></div></div>"
      ],
      "text/plain": [
       "RandomizedSearchCV(cv=5,\n",
       "                   estimator=Pipeline(steps=[('preprocessor',\n",
       "                                              ColumnTransformer(transformers=[('num',\n",
       "                                                                               StandardScaler(),\n",
       "                                                                               ['app_usage_time',\n",
       "                                                                                'screen_on_time(h/day)',\n",
       "                                                                                'battery_drain',\n",
       "                                                                                'num_of_installed_apps',\n",
       "                                                                                'data_usage(mb/day)',\n",
       "                                                                                'age',\n",
       "                                                                                'capacity',\n",
       "                                                                                'avg_power_consumption',\n",
       "                                                                                'Battery_life',\n",
       "                                                                                'cycle_number_per_day',\n",
       "                                                                                'cycle_number_in_400days']),\n",
       "                                                                              ('cat',\n",
       "                                                                               OneHotEncod...\n",
       "                                                                               array(['device_model', 'operating_system', 'gender'], dtype=object))])),\n",
       "                                             ('classifier',\n",
       "                                              RandomForestClassifier(random_state=42))]),\n",
       "                   n_iter=50, n_jobs=-1,\n",
       "                   param_distributions={'classifier__bootstrap': [True, False],\n",
       "                                        'classifier__max_depth': [None, 10, 20,\n",
       "                                                                  30, 50],\n",
       "                                        'classifier__min_samples_leaf': [1, 2,\n",
       "                                                                         4],\n",
       "                                        'classifier__min_samples_split': [2, 5,\n",
       "                                                                          10],\n",
       "                                        'classifier__n_estimators': [50, 100,\n",
       "                                                                     200,\n",
       "                                                                     300]},\n",
       "                   random_state=42, scoring='accuracy', verbose=2)"
      ]
     },
     "execution_count": 40,
     "metadata": {},
     "output_type": "execute_result"
    }
   ],
   "source": [
    "\n",
    "# The values I want to be checked, usually this part is done with ChatGPT :)\n",
    "param_distributions = {\n",
    "    'classifier__n_estimators': [50, 100, 200, 300],  # Pipeline'da \"classifier\" adımına ait parametre , # Ağaç sayısı\n",
    "    'classifier__max_depth': [None, 10, 20, 30, 50],   # Maksimum derinlik\n",
    "    'classifier__min_samples_split': [2, 5, 10],        # Dallanma için minimum örnek\n",
    "    'classifier__min_samples_leaf': [1, 2, 4],           # Yaprakta minimum örnek\n",
    "    'classifier__bootstrap': [True, False]                # Bootstrap örneklemesi\n",
    "}\n",
    "\n",
    "# Creating RondomSearch object \n",
    "random_search = RandomizedSearchCV(\n",
    "    estimator=pipeline,\n",
    "    param_distributions=param_distributions,\n",
    "    n_iter=50,  # 50 rastgele kombinasyon deniyor\n",
    "    scoring='accuracy', #sonuçları accuracy metriğiyle ölçüyor.\n",
    "    cv=5,  # 5-fold cross-validation\n",
    "    verbose=2,\n",
    "    random_state=42,\n",
    "    n_jobs=-1  # Paralel işlem\n",
    ")\n",
    "\n",
    "\n",
    "\n",
    "random_search.fit(X_train, y_train)"
   ]
  },
  {
   "cell_type": "code",
   "execution_count": 41,
   "metadata": {},
   "outputs": [
    {
     "name": "stdout",
     "output_type": "stream",
     "text": [
      "Best Hyperparameters: {'classifier__n_estimators': 50, 'classifier__min_samples_split': 10, 'classifier__min_samples_leaf': 1, 'classifier__max_depth': 10, 'classifier__bootstrap': False}\n"
     ]
    },
    {
     "data": {
      "text/html": [
       "<style>#sk-container-id-2 {color: black;}#sk-container-id-2 pre{padding: 0;}#sk-container-id-2 div.sk-toggleable {background-color: white;}#sk-container-id-2 label.sk-toggleable__label {cursor: pointer;display: block;width: 100%;margin-bottom: 0;padding: 0.3em;box-sizing: border-box;text-align: center;}#sk-container-id-2 label.sk-toggleable__label-arrow:before {content: \"▸\";float: left;margin-right: 0.25em;color: #696969;}#sk-container-id-2 label.sk-toggleable__label-arrow:hover:before {color: black;}#sk-container-id-2 div.sk-estimator:hover label.sk-toggleable__label-arrow:before {color: black;}#sk-container-id-2 div.sk-toggleable__content {max-height: 0;max-width: 0;overflow: hidden;text-align: left;background-color: #f0f8ff;}#sk-container-id-2 div.sk-toggleable__content pre {margin: 0.2em;color: black;border-radius: 0.25em;background-color: #f0f8ff;}#sk-container-id-2 input.sk-toggleable__control:checked~div.sk-toggleable__content {max-height: 200px;max-width: 100%;overflow: auto;}#sk-container-id-2 input.sk-toggleable__control:checked~label.sk-toggleable__label-arrow:before {content: \"▾\";}#sk-container-id-2 div.sk-estimator input.sk-toggleable__control:checked~label.sk-toggleable__label {background-color: #d4ebff;}#sk-container-id-2 div.sk-label input.sk-toggleable__control:checked~label.sk-toggleable__label {background-color: #d4ebff;}#sk-container-id-2 input.sk-hidden--visually {border: 0;clip: rect(1px 1px 1px 1px);clip: rect(1px, 1px, 1px, 1px);height: 1px;margin: -1px;overflow: hidden;padding: 0;position: absolute;width: 1px;}#sk-container-id-2 div.sk-estimator {font-family: monospace;background-color: #f0f8ff;border: 1px dotted black;border-radius: 0.25em;box-sizing: border-box;margin-bottom: 0.5em;}#sk-container-id-2 div.sk-estimator:hover {background-color: #d4ebff;}#sk-container-id-2 div.sk-parallel-item::after {content: \"\";width: 100%;border-bottom: 1px solid gray;flex-grow: 1;}#sk-container-id-2 div.sk-label:hover label.sk-toggleable__label {background-color: #d4ebff;}#sk-container-id-2 div.sk-serial::before {content: \"\";position: absolute;border-left: 1px solid gray;box-sizing: border-box;top: 0;bottom: 0;left: 50%;z-index: 0;}#sk-container-id-2 div.sk-serial {display: flex;flex-direction: column;align-items: center;background-color: white;padding-right: 0.2em;padding-left: 0.2em;position: relative;}#sk-container-id-2 div.sk-item {position: relative;z-index: 1;}#sk-container-id-2 div.sk-parallel {display: flex;align-items: stretch;justify-content: center;background-color: white;position: relative;}#sk-container-id-2 div.sk-item::before, #sk-container-id-2 div.sk-parallel-item::before {content: \"\";position: absolute;border-left: 1px solid gray;box-sizing: border-box;top: 0;bottom: 0;left: 50%;z-index: -1;}#sk-container-id-2 div.sk-parallel-item {display: flex;flex-direction: column;z-index: 1;position: relative;background-color: white;}#sk-container-id-2 div.sk-parallel-item:first-child::after {align-self: flex-end;width: 50%;}#sk-container-id-2 div.sk-parallel-item:last-child::after {align-self: flex-start;width: 50%;}#sk-container-id-2 div.sk-parallel-item:only-child::after {width: 0;}#sk-container-id-2 div.sk-dashed-wrapped {border: 1px dashed gray;margin: 0 0.4em 0.5em 0.4em;box-sizing: border-box;padding-bottom: 0.4em;background-color: white;}#sk-container-id-2 div.sk-label label {font-family: monospace;font-weight: bold;display: inline-block;line-height: 1.2em;}#sk-container-id-2 div.sk-label-container {text-align: center;}#sk-container-id-2 div.sk-container {/* jupyter's `normalize.less` sets `[hidden] { display: none; }` but bootstrap.min.css set `[hidden] { display: none !important; }` so we also need the `!important` here to be able to override the default hidden behavior on the sphinx rendered scikit-learn.org. See: https://github.com/scikit-learn/scikit-learn/issues/21755 */display: inline-block !important;position: relative;}#sk-container-id-2 div.sk-text-repr-fallback {display: none;}</style><div id=\"sk-container-id-2\" class=\"sk-top-container\"><div class=\"sk-text-repr-fallback\"><pre>Pipeline(steps=[(&#x27;preprocessor&#x27;,\n",
       "                 ColumnTransformer(transformers=[(&#x27;num&#x27;, StandardScaler(),\n",
       "                                                  [&#x27;app_usage_time&#x27;,\n",
       "                                                   &#x27;screen_on_time(h/day)&#x27;,\n",
       "                                                   &#x27;battery_drain&#x27;,\n",
       "                                                   &#x27;num_of_installed_apps&#x27;,\n",
       "                                                   &#x27;data_usage(mb/day)&#x27;, &#x27;age&#x27;,\n",
       "                                                   &#x27;capacity&#x27;,\n",
       "                                                   &#x27;avg_power_consumption&#x27;,\n",
       "                                                   &#x27;Battery_life&#x27;,\n",
       "                                                   &#x27;cycle_number_per_day&#x27;,\n",
       "                                                   &#x27;cycle_number_in_400days&#x27;]),\n",
       "                                                 (&#x27;cat&#x27;,\n",
       "                                                  OneHotEncoder(drop=&#x27;first&#x27;),\n",
       "                                                  array([&#x27;device_model&#x27;, &#x27;operating_system&#x27;, &#x27;gender&#x27;], dtype=object))])),\n",
       "                (&#x27;classifier&#x27;,\n",
       "                 RandomForestClassifier(bootstrap=False, max_depth=10,\n",
       "                                        min_samples_split=10, n_estimators=50,\n",
       "                                        random_state=42))])</pre><b>In a Jupyter environment, please rerun this cell to show the HTML representation or trust the notebook. <br />On GitHub, the HTML representation is unable to render, please try loading this page with nbviewer.org.</b></div><div class=\"sk-container\" hidden><div class=\"sk-item sk-dashed-wrapped\"><div class=\"sk-label-container\"><div class=\"sk-label sk-toggleable\"><input class=\"sk-toggleable__control sk-hidden--visually\" id=\"sk-estimator-id-9\" type=\"checkbox\" ><label for=\"sk-estimator-id-9\" class=\"sk-toggleable__label sk-toggleable__label-arrow\">Pipeline</label><div class=\"sk-toggleable__content\"><pre>Pipeline(steps=[(&#x27;preprocessor&#x27;,\n",
       "                 ColumnTransformer(transformers=[(&#x27;num&#x27;, StandardScaler(),\n",
       "                                                  [&#x27;app_usage_time&#x27;,\n",
       "                                                   &#x27;screen_on_time(h/day)&#x27;,\n",
       "                                                   &#x27;battery_drain&#x27;,\n",
       "                                                   &#x27;num_of_installed_apps&#x27;,\n",
       "                                                   &#x27;data_usage(mb/day)&#x27;, &#x27;age&#x27;,\n",
       "                                                   &#x27;capacity&#x27;,\n",
       "                                                   &#x27;avg_power_consumption&#x27;,\n",
       "                                                   &#x27;Battery_life&#x27;,\n",
       "                                                   &#x27;cycle_number_per_day&#x27;,\n",
       "                                                   &#x27;cycle_number_in_400days&#x27;]),\n",
       "                                                 (&#x27;cat&#x27;,\n",
       "                                                  OneHotEncoder(drop=&#x27;first&#x27;),\n",
       "                                                  array([&#x27;device_model&#x27;, &#x27;operating_system&#x27;, &#x27;gender&#x27;], dtype=object))])),\n",
       "                (&#x27;classifier&#x27;,\n",
       "                 RandomForestClassifier(bootstrap=False, max_depth=10,\n",
       "                                        min_samples_split=10, n_estimators=50,\n",
       "                                        random_state=42))])</pre></div></div></div><div class=\"sk-serial\"><div class=\"sk-item sk-dashed-wrapped\"><div class=\"sk-label-container\"><div class=\"sk-label sk-toggleable\"><input class=\"sk-toggleable__control sk-hidden--visually\" id=\"sk-estimator-id-10\" type=\"checkbox\" ><label for=\"sk-estimator-id-10\" class=\"sk-toggleable__label sk-toggleable__label-arrow\">preprocessor: ColumnTransformer</label><div class=\"sk-toggleable__content\"><pre>ColumnTransformer(transformers=[(&#x27;num&#x27;, StandardScaler(),\n",
       "                                 [&#x27;app_usage_time&#x27;, &#x27;screen_on_time(h/day)&#x27;,\n",
       "                                  &#x27;battery_drain&#x27;, &#x27;num_of_installed_apps&#x27;,\n",
       "                                  &#x27;data_usage(mb/day)&#x27;, &#x27;age&#x27;, &#x27;capacity&#x27;,\n",
       "                                  &#x27;avg_power_consumption&#x27;, &#x27;Battery_life&#x27;,\n",
       "                                  &#x27;cycle_number_per_day&#x27;,\n",
       "                                  &#x27;cycle_number_in_400days&#x27;]),\n",
       "                                (&#x27;cat&#x27;, OneHotEncoder(drop=&#x27;first&#x27;),\n",
       "                                 array([&#x27;device_model&#x27;, &#x27;operating_system&#x27;, &#x27;gender&#x27;], dtype=object))])</pre></div></div></div><div class=\"sk-parallel\"><div class=\"sk-parallel-item\"><div class=\"sk-item\"><div class=\"sk-label-container\"><div class=\"sk-label sk-toggleable\"><input class=\"sk-toggleable__control sk-hidden--visually\" id=\"sk-estimator-id-11\" type=\"checkbox\" ><label for=\"sk-estimator-id-11\" class=\"sk-toggleable__label sk-toggleable__label-arrow\">num</label><div class=\"sk-toggleable__content\"><pre>[&#x27;app_usage_time&#x27;, &#x27;screen_on_time(h/day)&#x27;, &#x27;battery_drain&#x27;, &#x27;num_of_installed_apps&#x27;, &#x27;data_usage(mb/day)&#x27;, &#x27;age&#x27;, &#x27;capacity&#x27;, &#x27;avg_power_consumption&#x27;, &#x27;Battery_life&#x27;, &#x27;cycle_number_per_day&#x27;, &#x27;cycle_number_in_400days&#x27;]</pre></div></div></div><div class=\"sk-serial\"><div class=\"sk-item\"><div class=\"sk-estimator sk-toggleable\"><input class=\"sk-toggleable__control sk-hidden--visually\" id=\"sk-estimator-id-12\" type=\"checkbox\" ><label for=\"sk-estimator-id-12\" class=\"sk-toggleable__label sk-toggleable__label-arrow\">StandardScaler</label><div class=\"sk-toggleable__content\"><pre>StandardScaler()</pre></div></div></div></div></div></div><div class=\"sk-parallel-item\"><div class=\"sk-item\"><div class=\"sk-label-container\"><div class=\"sk-label sk-toggleable\"><input class=\"sk-toggleable__control sk-hidden--visually\" id=\"sk-estimator-id-13\" type=\"checkbox\" ><label for=\"sk-estimator-id-13\" class=\"sk-toggleable__label sk-toggleable__label-arrow\">cat</label><div class=\"sk-toggleable__content\"><pre>[&#x27;device_model&#x27; &#x27;operating_system&#x27; &#x27;gender&#x27;]</pre></div></div></div><div class=\"sk-serial\"><div class=\"sk-item\"><div class=\"sk-estimator sk-toggleable\"><input class=\"sk-toggleable__control sk-hidden--visually\" id=\"sk-estimator-id-14\" type=\"checkbox\" ><label for=\"sk-estimator-id-14\" class=\"sk-toggleable__label sk-toggleable__label-arrow\">OneHotEncoder</label><div class=\"sk-toggleable__content\"><pre>OneHotEncoder(drop=&#x27;first&#x27;)</pre></div></div></div></div></div></div></div></div><div class=\"sk-item\"><div class=\"sk-estimator sk-toggleable\"><input class=\"sk-toggleable__control sk-hidden--visually\" id=\"sk-estimator-id-15\" type=\"checkbox\" ><label for=\"sk-estimator-id-15\" class=\"sk-toggleable__label sk-toggleable__label-arrow\">RandomForestClassifier</label><div class=\"sk-toggleable__content\"><pre>RandomForestClassifier(bootstrap=False, max_depth=10, min_samples_split=10,\n",
       "                       n_estimators=50, random_state=42)</pre></div></div></div></div></div></div></div>"
      ],
      "text/plain": [
       "Pipeline(steps=[('preprocessor',\n",
       "                 ColumnTransformer(transformers=[('num', StandardScaler(),\n",
       "                                                  ['app_usage_time',\n",
       "                                                   'screen_on_time(h/day)',\n",
       "                                                   'battery_drain',\n",
       "                                                   'num_of_installed_apps',\n",
       "                                                   'data_usage(mb/day)', 'age',\n",
       "                                                   'capacity',\n",
       "                                                   'avg_power_consumption',\n",
       "                                                   'Battery_life',\n",
       "                                                   'cycle_number_per_day',\n",
       "                                                   'cycle_number_in_400days']),\n",
       "                                                 ('cat',\n",
       "                                                  OneHotEncoder(drop='first'),\n",
       "                                                  array(['device_model', 'operating_system', 'gender'], dtype=object))])),\n",
       "                ('classifier',\n",
       "                 RandomForestClassifier(bootstrap=False, max_depth=10,\n",
       "                                        min_samples_split=10, n_estimators=50,\n",
       "                                        random_state=42))])"
      ]
     },
     "execution_count": 41,
     "metadata": {},
     "output_type": "execute_result"
    }
   ],
   "source": [
    "# Best parameters\n",
    "best_params = random_search.best_params_\n",
    "print(f\"Best Hyperparameters: {best_params}\")\n",
    "\n",
    "# best model\n",
    "final_model = random_search.best_estimator_\n",
    "\n",
    "\n",
    "final_model.fit(X_train, y_train)"
   ]
  },
  {
   "cell_type": "code",
   "execution_count": 42,
   "metadata": {},
   "outputs": [
    {
     "name": "stdout",
     "output_type": "stream",
     "text": [
      "\n",
      "Model Performance for Pipeline\n",
      "Accuracy: 1.00\n",
      "Precision: 1.00\n",
      "Recall: 1.00\n",
      "F1 Score: 1.00\n"
     ]
    },
    {
     "data": {
      "text/plain": [
       "1.0"
      ]
     },
     "execution_count": 42,
     "metadata": {},
     "output_type": "execute_result"
    }
   ],
   "source": [
    "evaluate_classification(final_model, X_test, y_test) #evaluating the best model"
   ]
  }
 ],
 "metadata": {
  "kaggle": {
   "accelerator": "none",
   "dataSources": [
    {
     "datasetId": 5784553,
     "sourceId": 9504237,
     "sourceType": "datasetVersion"
    }
   ],
   "dockerImageVersionId": 30786,
   "isGpuEnabled": false,
   "isInternetEnabled": true,
   "language": "python",
   "sourceType": "notebook"
  },
  "kernelspec": {
   "display_name": "Python 3 (ipykernel)",
   "language": "python",
   "name": "python3"
  },
  "language_info": {
   "codemirror_mode": {
    "name": "ipython",
    "version": 3
   },
   "file_extension": ".py",
   "mimetype": "text/x-python",
   "name": "python",
   "nbconvert_exporter": "python",
   "pygments_lexer": "ipython3",
   "version": "3.11.5"
  }
 },
 "nbformat": 4,
 "nbformat_minor": 4
}
